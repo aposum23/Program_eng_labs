{
 "cells": [
  {
   "cell_type": "markdown",
   "id": "75eefe53",
   "metadata": {},
   "source": [
    "<h2>Примеры</h2>"
   ]
  },
  {
   "cell_type": "markdown",
   "id": "e510ced7",
   "metadata": {},
   "source": [
    "Пример 1"
   ]
  },
  {
   "cell_type": "code",
   "execution_count": 20,
   "id": "b621018e",
   "metadata": {},
   "outputs": [
    {
     "name": "stdout",
     "output_type": "stream",
     "text": [
      "(5+5j)\n",
      "(1-2j)\n",
      "(10+0j)\n",
      "(2+4j)\n",
      "2j\n",
      "(7+11j)\n"
     ]
    }
   ],
   "source": [
    "x = complex(1, 3)\n",
    "y = complex(2, -1)\n",
    "z = x * y\n",
    "print(z)\n",
    "g = complex(1, -2)\n",
    "print(g)\n",
    "t = complex(10, 0)\n",
    "print(t)\n",
    "h = t/g\n",
    "print(h)\n",
    "p = complex(-1, -1)\n",
    "n = p * p\n",
    "print(n)\n",
    "C = z + h + n\n",
    "print(C)"
   ]
  },
  {
   "cell_type": "markdown",
   "id": "96d1a106",
   "metadata": {},
   "source": [
    "Пример 2"
   ]
  },
  {
   "cell_type": "code",
   "execution_count": 21,
   "id": "2e9d1858",
   "metadata": {},
   "outputs": [
    {
     "name": "stdout",
     "output_type": "stream",
     "text": [
      "(-1+0j)\n"
     ]
    }
   ],
   "source": [
    "x = complex(0, 1)\n",
    "y = pow(x, 2)\n",
    "print(y)"
   ]
  },
  {
   "cell_type": "markdown",
   "id": "3edd78a3",
   "metadata": {},
   "source": [
    "Пример 3"
   ]
  },
  {
   "cell_type": "code",
   "execution_count": 22,
   "id": "cf1d5884",
   "metadata": {},
   "outputs": [
    {
     "name": "stdout",
     "output_type": "stream",
     "text": [
      "(5+5j)\n",
      "(10+0j)\n",
      "(2+4j)\n",
      "2j\n",
      "(7+11j)\n"
     ]
    }
   ],
   "source": [
    "x = complex(1, 3)\n",
    "y = complex(2, -1)\n",
    "z = x * y\n",
    "print(z)\n",
    "g = complex(1, -2)\n",
    "print(t)\n",
    "h = t / g\n",
    "print(h)\n",
    "p = complex(-1, -1)\n",
    "n = p * p\n",
    "print(n)\n",
    "C = z + h + n\n",
    "print(C)"
   ]
  },
  {
   "cell_type": "markdown",
   "id": "999c3c83",
   "metadata": {},
   "source": [
    "Пример 4"
   ]
  },
  {
   "cell_type": "code",
   "execution_count": 23,
   "id": "ce9e36fe",
   "metadata": {},
   "outputs": [
    {
     "name": "stdout",
     "output_type": "stream",
     "text": [
      "[1 - 2*I, 1 + 2*I]\n"
     ]
    }
   ],
   "source": [
    "import math\n",
    "from sympy import *\n",
    "x = Symbol('x')\n",
    "print(solve(x ** 2 - 2 * x + 5))"
   ]
  },
  {
   "cell_type": "markdown",
   "id": "8d830814",
   "metadata": {},
   "source": [
    "Пример 5"
   ]
  },
  {
   "cell_type": "code",
   "execution_count": 24,
   "id": "24252f57",
   "metadata": {},
   "outputs": [
    {
     "name": "stdout",
     "output_type": "stream",
     "text": [
      "(-4+23j)\n"
     ]
    }
   ],
   "source": [
    "x = complex(1, -2)\n",
    "i = complex(0, 1)\n",
    "f = x ** 4 + (2 + i) / x - (-3 + 2 * i)\n",
    "print(f)"
   ]
  },
  {
   "cell_type": "markdown",
   "id": "6fe78a7e",
   "metadata": {},
   "source": [
    "Пример 6"
   ]
  },
  {
   "cell_type": "code",
   "execution_count": 25,
   "id": "f1c631da",
   "metadata": {},
   "outputs": [
    {
     "data": {
      "text/plain": [
       "(-0+2j)"
      ]
     },
     "execution_count": 25,
     "metadata": {},
     "output_type": "execute_result"
    }
   ],
   "source": [
    "(1 + i) ** 8 / (1 + i) ** 6"
   ]
  },
  {
   "cell_type": "markdown",
   "id": "4dbdbf9a",
   "metadata": {},
   "source": [
    "Пример 7"
   ]
  },
  {
   "cell_type": "code",
   "execution_count": 26,
   "id": "0978ed01",
   "metadata": {},
   "outputs": [
    {
     "name": "stdout",
     "output_type": "stream",
     "text": [
      "Matrix([[-0.0588 - 0.765*I], [1.82 + 1.71*I]])\n"
     ]
    }
   ],
   "source": [
    "from sympy import Symbol, nsolve\n",
    "import sympy\n",
    "import mpmath\n",
    "mpmath.mp.dps = 3\n",
    "x = Symbol('x')\n",
    "y = Symbol('y')\n",
    "i = complex(0, 1)\n",
    "f1 = (2 + i) * x + y * (2 - i) - 6\n",
    "f2 = (2 - i) * x + (3 - 2 * i) * y - 8\n",
    "print(nsolve((f1, f2), (x, y), (-1, 1)))"
   ]
  },
  {
   "cell_type": "markdown",
   "id": "e14e3085",
   "metadata": {},
   "source": [
    "Пример 8"
   ]
  },
  {
   "cell_type": "code",
   "execution_count": 27,
   "id": "e8bdccb7",
   "metadata": {},
   "outputs": [
    {
     "data": {
      "text/plain": [
       "[-2.0 + 1.0*I, 2.0 - 1.0*I]"
      ]
     },
     "execution_count": 27,
     "metadata": {},
     "output_type": "execute_result"
    }
   ],
   "source": [
    "solve(x ** 2 - 3 + 4 * i)"
   ]
  },
  {
   "cell_type": "markdown",
   "id": "8a79ea40",
   "metadata": {},
   "source": [
    "Пример 9"
   ]
  },
  {
   "cell_type": "code",
   "execution_count": 28,
   "id": "75f32ebc",
   "metadata": {},
   "outputs": [
    {
     "name": "stdout",
     "output_type": "stream",
     "text": [
      "[0.8 - 0.4*I, 1.0 - 1.0*I]\n"
     ]
    }
   ],
   "source": [
    "x = Symbol('x')\n",
    "i = complex(0, 1)\n",
    "print(solve((2 + i) * x ** 2 - (5 - i) * x + 2 - 2 * i))"
   ]
  },
  {
   "cell_type": "markdown",
   "id": "9fd24615",
   "metadata": {},
   "source": [
    "Пример 10"
   ]
  },
  {
   "cell_type": "code",
   "execution_count": 29,
   "id": "9f766f5e",
   "metadata": {},
   "outputs": [
    {
     "name": "stdout",
     "output_type": "stream",
     "text": [
      "[-2.0 + 1.0*I, 2.0 - 1.0*I]\n"
     ]
    }
   ],
   "source": [
    "x = Symbol('x')\n",
    "i = complex(0, 1)\n",
    "print(solve(x ** 2 - 3 + 4 * i))"
   ]
  },
  {
   "cell_type": "markdown",
   "id": "ed9d0f6f",
   "metadata": {},
   "source": [
    "Пример 11"
   ]
  },
  {
   "cell_type": "code",
   "execution_count": 30,
   "id": "c593fb7c",
   "metadata": {},
   "outputs": [
    {
     "data": {
      "text/plain": [
       "(28984573.79411765+34989571.323529415j)"
      ]
     },
     "execution_count": 30,
     "metadata": {},
     "output_type": "execute_result"
    }
   ],
   "source": [
    "i = complex(0, 1)\n",
    "-(3 + 5 * i) ** 10 - 25 * (3 * i - 9) / (2 + 8 * i)"
   ]
  },
  {
   "cell_type": "markdown",
   "id": "ac163db6",
   "metadata": {},
   "source": [
    "Пример 12"
   ]
  },
  {
   "cell_type": "code",
   "execution_count": 33,
   "id": "53b08b13",
   "metadata": {},
   "outputs": [
    {
     "data": {
      "text/plain": [
       "3.9999999999999996"
      ]
     },
     "execution_count": 33,
     "metadata": {},
     "output_type": "execute_result"
    }
   ],
   "source": [
    "import cmath\n",
    "import math\n",
    "\n",
    "abs(z)"
   ]
  },
  {
   "cell_type": "code",
   "execution_count": 34,
   "id": "52e7e88d",
   "metadata": {},
   "outputs": [
    {
     "data": {
      "text/plain": [
       "60"
      ]
     },
     "execution_count": 34,
     "metadata": {},
     "output_type": "execute_result"
    }
   ],
   "source": [
    "z = complex(2, 2 * sqrt(3))\n",
    "cmath.phase(z)\n",
    "round(math.degrees(cmath.phase(z)))"
   ]
  },
  {
   "cell_type": "markdown",
   "id": "26446775",
   "metadata": {},
   "source": [
    "Пример 13"
   ]
  },
  {
   "cell_type": "code",
   "execution_count": 35,
   "id": "e87640f5",
   "metadata": {},
   "outputs": [
    {
     "data": {
      "text/plain": [
       "(-0.19999999999999982+5.6000000000000005j)"
      ]
     },
     "execution_count": 35,
     "metadata": {},
     "output_type": "execute_result"
    }
   ],
   "source": [
    "z1 = complex(-4, -9)\n",
    "z2 = complex(1, -8)\n",
    "complex(z1 - conjugate(z2)) / complex(z2 + conjugate(z1))"
   ]
  },
  {
   "cell_type": "code",
   "execution_count": 36,
   "id": "f0f862fa",
   "metadata": {},
   "outputs": [
    {
     "name": "stdout",
     "output_type": "stream",
     "text": [
      "(-1.8648648648648647+0.1891891891891892j)\n"
     ]
    }
   ],
   "source": [
    "i = complex(0, 1)\n",
    "print((1 + 2 * i) * (-1 + 5 * i) / (6 - i))"
   ]
  },
  {
   "cell_type": "code",
   "execution_count": 37,
   "id": "a809313f",
   "metadata": {},
   "outputs": [
    {
     "name": "stdout",
     "output_type": "stream",
     "text": [
      "(-30-10j)\n"
     ]
    }
   ],
   "source": [
    "z = complex (1, 2)\n",
    "p = (1 + 3 * i) * z ** 2 + (-5 + 6 * i) * z + (2 - i)\n",
    "print(p)"
   ]
  },
  {
   "cell_type": "markdown",
   "id": "fa82378b",
   "metadata": {},
   "source": [
    "<h1>Задача для саостоятельного решения</h1>"
   ]
  },
  {
   "cell_type": "markdown",
   "id": "ac2dcb6f",
   "metadata": {},
   "source": [
    "Вычислить модуль и аргумент числа z = —8i.\n",
    "Ответ: |z| = 8,arg(z) = — 7."
   ]
  },
  {
   "cell_type": "code",
   "execution_count": 44,
   "id": "49f0230b",
   "metadata": {},
   "outputs": [
    {
     "name": "stdout",
     "output_type": "stream",
     "text": [
      "z = -8j\n",
      "8.0\n",
      "-1.5707963267948966\n"
     ]
    }
   ],
   "source": [
    "z = complex(0, -8)\n",
    "print (f'z = {z}')\n",
    "print(abs(z))\n",
    "print(cmath.phase(z))"
   ]
  },
  {
   "cell_type": "markdown",
   "id": "6511750e",
   "metadata": {},
   "source": [
    "<h1>Дополнительная задача</h1>"
   ]
  },
  {
   "cell_type": "markdown",
   "id": "da596f5f",
   "metadata": {},
   "source": [
    "Создать объект комплексное число, который будет предоставлять математический функционал по работе с комплексными числами. Решить при помощи этого объекта задачу: Даны 2 комплексных числа z = (-1, 2) и w = (3, 2), расчитать 5z - 3w, построить график отображающий данное выражение."
   ]
  },
  {
   "cell_type": "code",
   "execution_count": 16,
   "id": "292cac5f",
   "metadata": {},
   "outputs": [],
   "source": [
    "import matplotlib.pyplot as plt"
   ]
  },
  {
   "cell_type": "code",
   "execution_count": 17,
   "id": "0bd60b2c",
   "metadata": {},
   "outputs": [],
   "source": [
    "class ComplexNumber:\n",
    "    def __init__(self, a, bj):\n",
    "        self.num = complex(a, bj)\n",
    "        \n",
    "    def change_num(self, a, bj):\n",
    "        self.num = complex(a, bj)\n",
    "    \n",
    "    def get_module(self):\n",
    "        return abs(self.num )\n",
    "    \n",
    "    def sum_number(self, complex_num):\n",
    "        return complex_num + self.num\n",
    "    \n",
    "    def subtract_number(self, complex_num):\n",
    "        return self.num - complex_num\n",
    "        \n",
    "    def multiply_number(self, a):\n",
    "        return a * self.num\n",
    "    \n",
    "    def division_number(self, a):\n",
    "        return self.num / a"
   ]
  },
  {
   "cell_type": "code",
   "execution_count": 18,
   "id": "416c26a0",
   "metadata": {},
   "outputs": [],
   "source": [
    "z = ComplexNumber(-1, 2)"
   ]
  },
  {
   "cell_type": "code",
   "execution_count": 19,
   "id": "75cd29d6",
   "metadata": {},
   "outputs": [],
   "source": [
    "w = ComplexNumber(3, 2)"
   ]
  },
  {
   "cell_type": "code",
   "execution_count": 20,
   "id": "30ffb885",
   "metadata": {},
   "outputs": [],
   "source": [
    "z_m = z.multiply_number(5)"
   ]
  },
  {
   "cell_type": "code",
   "execution_count": 21,
   "id": "7e57aba1",
   "metadata": {},
   "outputs": [],
   "source": [
    "w_m = w.multiply_number(3)"
   ]
  },
  {
   "cell_type": "code",
   "execution_count": 22,
   "id": "a5f4034e",
   "metadata": {},
   "outputs": [],
   "source": [
    "result = z_m - w_m"
   ]
  },
  {
   "cell_type": "code",
   "execution_count": 23,
   "id": "450d7d60",
   "metadata": {},
   "outputs": [
    {
     "name": "stdout",
     "output_type": "stream",
     "text": [
      "(-5+10j)\n",
      "(9+6j)\n",
      "(-14+4j)\n"
     ]
    }
   ],
   "source": [
    "print(z_m)\n",
    "print(w_m)\n",
    "print(result)"
   ]
  },
  {
   "cell_type": "code",
   "execution_count": 24,
   "id": "a296f443",
   "metadata": {},
   "outputs": [
    {
     "data": {
      "text/plain": [
       "(9.0, 6.0)"
      ]
     },
     "execution_count": 24,
     "metadata": {},
     "output_type": "execute_result"
    }
   ],
   "source": [
    "w_m.real, w_m.imag"
   ]
  },
  {
   "cell_type": "code",
   "execution_count": 25,
   "id": "7908e273",
   "metadata": {},
   "outputs": [
    {
     "data": {
      "text/plain": [
       "(-5.0, 10.0)"
      ]
     },
     "execution_count": 25,
     "metadata": {},
     "output_type": "execute_result"
    }
   ],
   "source": [
    "z_m.real, z_m.imag"
   ]
  },
  {
   "cell_type": "code",
   "execution_count": 26,
   "id": "d35b539d",
   "metadata": {},
   "outputs": [
    {
     "data": {
      "text/plain": [
       "(-14.0, 4.0)"
      ]
     },
     "execution_count": 26,
     "metadata": {},
     "output_type": "execute_result"
    }
   ],
   "source": [
    "result.real, result.imag"
   ]
  },
  {
   "cell_type": "code",
   "execution_count": 33,
   "id": "cf53e78c",
   "metadata": {},
   "outputs": [
    {
     "data": {
      "image/png": "[encoded data removed]",
      "text/plain": [
       "<Figure size 640x480 with 1 Axes>"
      ]
     },
     "metadata": {},
     "output_type": "display_data"
    }
   ],
   "source": [
    "plt.plot((z_m.real, z_m.imag), (w_m.real, w_m.imag), label='5z')\n",
    "\n",
    "plt.show()"
   ]
  },
  {
   "cell_type": "code",
   "execution_count": 35,
   "id": "8a8ac45a",
   "metadata": {},
   "outputs": [
    {
     "data": {
      "text/plain": [
       "-5"
      ]
     },
     "execution_count": 35,
     "metadata": {},
     "output_type": "execute_result"
    }
   ],
   "source": []
  },
  {
   "cell_type": "code",
   "execution_count": null,
   "id": "107e8067",
   "metadata": {},
   "outputs": [],
   "source": []
  }
 ],
 "metadata": {
  "kernelspec": {
   "display_name": "Python 3 (ipykernel)",
   "language": "python",
   "name": "python3"
  },
  "language_info": {
   "codemirror_mode": {
    "name": "ipython",
    "version": 3
   },
   "file_extension": ".py",
   "mimetype": "text/x-python",
   "name": "python",
   "nbconvert_exporter": "python",
   "pygments_lexer": "ipython3",
   "version": "3.11.3"
  }
 },
 "nbformat": 4,
 "nbformat_minor": 5
}
