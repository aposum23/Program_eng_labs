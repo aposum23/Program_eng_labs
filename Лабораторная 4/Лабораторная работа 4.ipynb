{
 "cells": [
  {
   "cell_type": "markdown",
   "metadata": {},
   "source": [
    "# Интегралы"
   ]
  },
  {
   "cell_type": "code",
   "execution_count": 1,
   "metadata": {},
   "outputs": [],
   "source": [
    "from sympy import *\n",
    "from scipy.integrate import quad"
   ]
  },
  {
   "cell_type": "markdown",
   "metadata": {},
   "source": [
    "## Пример 1"
   ]
  },
  {
   "cell_type": "code",
   "execution_count": 2,
   "metadata": {},
   "outputs": [
    {
     "name": "stdout",
     "output_type": "stream",
     "text": [
      "-dx/(х**2*(1 + х**(-2)))\n"
     ]
    }
   ],
   "source": [
    "x = Symbol('х') \n",
    "dx = Symbol('dx')\n",
    "a = diff( atan(1/x), x) \n",
    "print( dx*a )"
   ]
  },
  {
   "cell_type": "code",
   "execution_count": 3,
   "metadata": {},
   "outputs": [
    {
     "name": "stdout",
     "output_type": "stream",
     "text": [
      "dx*sin(x)*cos(x)/sqrt(sin(x)**2 + 1)\n"
     ]
    }
   ],
   "source": [
    "x = Symbol('x') \n",
    "dx = Symbol('dx')\n",
    "y = Symbol('у') \n",
    "xx = diff(sqrt(1+(sin(x))**2), x) \n",
    "y = print( xx*dx )"
   ]
  },
  {
   "cell_type": "markdown",
   "metadata": {},
   "source": [
    "## Пример 2"
   ]
  },
  {
   "cell_type": "code",
   "execution_count": 4,
   "metadata": {},
   "outputs": [
    {
     "name": "stdout",
     "output_type": "stream",
     "text": [
      "x**6\n"
     ]
    }
   ],
   "source": [
    "x = symbols('x')\n",
    "y = integrate(6*x**5, x)\n",
    "print(y)"
   ]
  },
  {
   "cell_type": "markdown",
   "metadata": {},
   "source": [
    "## Пример 3"
   ]
  },
  {
   "cell_type": "code",
   "execution_count": 5,
   "metadata": {},
   "outputs": [
    {
     "name": "stdout",
     "output_type": "stream",
     "text": [
      "x - 2*log(x + 2)\n"
     ]
    }
   ],
   "source": [
    "x = symbols('x')\n",
    "y = integrate(x/(x+2), x) \n",
    "print(y)"
   ]
  },
  {
   "cell_type": "markdown",
   "metadata": {},
   "source": [
    "## Пример 4"
   ]
  },
  {
   "cell_type": "code",
   "execution_count": 6,
   "metadata": {},
   "outputs": [
    {
     "data": {
      "text/latex": [
       "$\\displaystyle \\frac{x}{2 x^{2} + 2} + \\frac{\\operatorname{atan}{\\left(x \\right)}}{2}$"
      ],
      "text/plain": [
       "x/(2*x**2 + 2) + atan(x)/2"
      ]
     },
     "execution_count": 6,
     "metadata": {},
     "output_type": "execute_result"
    }
   ],
   "source": [
    "integrate(1/(x**2+1)**2)"
   ]
  },
  {
   "cell_type": "markdown",
   "metadata": {},
   "source": [
    "## Пример 5"
   ]
  },
  {
   "cell_type": "code",
   "execution_count": 7,
   "metadata": {},
   "outputs": [
    {
     "data": {
      "text/latex": [
       "$\\displaystyle \\frac{\\left(2 x - 1\\right) e^{2 x}}{4}$"
      ],
      "text/plain": [
       "(2*x - 1)*exp(2*x)/4"
      ]
     },
     "execution_count": 7,
     "metadata": {},
     "output_type": "execute_result"
    }
   ],
   "source": [
    "integrate(x*exp(2 *x),x)"
   ]
  },
  {
   "cell_type": "markdown",
   "metadata": {},
   "source": [
    "## Пример 6"
   ]
  },
  {
   "cell_type": "code",
   "execution_count": 8,
   "metadata": {},
   "outputs": [
    {
     "data": {
      "text/latex": [
       "$\\displaystyle \\begin{cases} 2 \\sqrt{x + 4} - 4 \\operatorname{acoth}{\\left(\\frac{\\sqrt{x + 4}}{2} \\right)} & \\text{for}\\: \\left|{x + 4}\\right| > 4 \\\\2 \\sqrt{x + 4} - 4 \\operatorname{atanh}{\\left(\\frac{\\sqrt{x + 4}}{2} \\right)} & \\text{otherwise} \\end{cases}$"
      ],
      "text/plain": [
       "Piecewise((2*sqrt(x + 4) - 4*acoth(sqrt(x + 4)/2), Abs(x + 4) > 4), (2*sqrt(x + 4) - 4*atanh(sqrt(x + 4)/2), True))"
      ]
     },
     "execution_count": 8,
     "metadata": {},
     "output_type": "execute_result"
    }
   ],
   "source": [
    "integrate(sqrt(x+4)/x)"
   ]
  },
  {
   "cell_type": "markdown",
   "metadata": {},
   "source": [
    "## Пример 7"
   ]
  },
  {
   "cell_type": "code",
   "execution_count": 9,
   "metadata": {},
   "outputs": [
    {
     "data": {
      "text/latex": [
       "$\\displaystyle 4096$"
      ],
      "text/plain": [
       "4096"
      ]
     },
     "execution_count": 9,
     "metadata": {},
     "output_type": "execute_result"
    }
   ],
   "source": [
    "integrate(6*x**5, (x,0,4))"
   ]
  },
  {
   "cell_type": "markdown",
   "metadata": {},
   "source": [
    "## Пример 8"
   ]
  },
  {
   "cell_type": "code",
   "execution_count": 10,
   "metadata": {},
   "outputs": [
    {
     "data": {
      "text/latex": [
       "$\\displaystyle - 2 \\log{\\left(5 \\right)} + 2 + 2 \\log{\\left(3 \\right)}$"
      ],
      "text/plain": [
       "-2*log(5) + 2 + 2*log(3)"
      ]
     },
     "execution_count": 10,
     "metadata": {},
     "output_type": "execute_result"
    }
   ],
   "source": [
    "integrate(x/(x+2),(x,1,3))"
   ]
  },
  {
   "cell_type": "markdown",
   "metadata": {},
   "source": [
    "## Пример 9"
   ]
  },
  {
   "cell_type": "code",
   "execution_count": 11,
   "metadata": {},
   "outputs": [
    {
     "data": {
      "text/latex": [
       "$\\displaystyle \\frac{1}{2} + \\frac{\\pi}{4}$"
      ],
      "text/plain": [
       "1/2 + pi/4"
      ]
     },
     "execution_count": 11,
     "metadata": {},
     "output_type": "execute_result"
    }
   ],
   "source": [
    "integrate(1/(x**2 + 1)**2,(x,-1,1) )"
   ]
  },
  {
   "cell_type": "markdown",
   "metadata": {},
   "source": [
    "## Пример 10"
   ]
  },
  {
   "cell_type": "code",
   "execution_count": 12,
   "metadata": {},
   "outputs": [
    {
     "data": {
      "text/latex": [
       "$\\displaystyle \\frac{1}{4} + \\frac{199 e^{200}}{4}$"
      ],
      "text/plain": [
       "1/4 + 199*exp(200)/4"
      ]
     },
     "execution_count": 12,
     "metadata": {},
     "output_type": "execute_result"
    }
   ],
   "source": [
    "integrate(x*exp(2*x),(x,0,100))"
   ]
  },
  {
   "cell_type": "markdown",
   "metadata": {},
   "source": [
    "## Пример 11"
   ]
  },
  {
   "cell_type": "code",
   "execution_count": 13,
   "metadata": {},
   "outputs": [
    {
     "data": {
      "text/latex": [
       "$\\displaystyle \\frac{16}{3} - 2 \\sqrt{3}$"
      ],
      "text/plain": [
       "16/3 - 2*sqrt(3)"
      ]
     },
     "execution_count": 13,
     "metadata": {},
     "output_type": "execute_result"
    }
   ],
   "source": [
    "integrate(sqrt(x+4),(x,-1,0))"
   ]
  },
  {
   "cell_type": "markdown",
   "metadata": {},
   "source": [
    "## Пример 12"
   ]
  },
  {
   "cell_type": "code",
   "execution_count": 14,
   "metadata": {},
   "outputs": [
    {
     "data": {
      "text/latex": [
       "$\\displaystyle \\frac{1}{3}$"
      ],
      "text/plain": [
       "1/3"
      ]
     },
     "execution_count": 14,
     "metadata": {},
     "output_type": "execute_result"
    }
   ],
   "source": [
    "integrate(x**(-4), (x, 1, oo))"
   ]
  },
  {
   "cell_type": "markdown",
   "metadata": {},
   "source": [
    "## Пример 13"
   ]
  },
  {
   "cell_type": "code",
   "execution_count": 15,
   "metadata": {},
   "outputs": [
    {
     "data": {
      "text/latex": [
       "$\\displaystyle \\frac{e^{2}}{2}$"
      ],
      "text/plain": [
       "exp(2)/2"
      ]
     },
     "execution_count": 15,
     "metadata": {},
     "output_type": "execute_result"
    }
   ],
   "source": [
    "integrate(exp(-2*x), (x, -1, oo))"
   ]
  },
  {
   "cell_type": "markdown",
   "metadata": {},
   "source": [
    "## Пример 14"
   ]
  },
  {
   "cell_type": "code",
   "execution_count": 16,
   "metadata": {},
   "outputs": [
    {
     "data": {
      "text/latex": [
       "$\\displaystyle -1$"
      ],
      "text/plain": [
       "-1"
      ]
     },
     "execution_count": 16,
     "metadata": {},
     "output_type": "execute_result"
    }
   ],
   "source": [
    "integrate(log(x), (x, 0, 1))"
   ]
  },
  {
   "cell_type": "markdown",
   "metadata": {},
   "source": [
    "## Пример 15"
   ]
  },
  {
   "cell_type": "code",
   "execution_count": 17,
   "metadata": {},
   "outputs": [
    {
     "data": {
      "text/latex": [
       "$\\displaystyle 9.24328473429286$"
      ],
      "text/plain": [
       "9.24328473429286"
      ]
     },
     "execution_count": 17,
     "metadata": {},
     "output_type": "execute_result"
    }
   ],
   "source": [
    "integrate(1/x**(6/7), (x, 0,7 ))"
   ]
  },
  {
   "cell_type": "markdown",
   "metadata": {},
   "source": [
    "## Пример 16"
   ]
  },
  {
   "cell_type": "code",
   "execution_count": 18,
   "metadata": {},
   "outputs": [
    {
     "data": {
      "text/latex": [
       "$\\displaystyle - \\frac{x^{4}}{3} + x^{3} - \\frac{4 x}{3}$"
      ],
      "text/plain": [
       "-x**4/3 + x**3 - 4*x/3"
      ]
     },
     "execution_count": 18,
     "metadata": {},
     "output_type": "execute_result"
    }
   ],
   "source": [
    "y = symbols('y')\n",
    "integrate(y**2*x-2*x*y,(y,x,2))"
   ]
  },
  {
   "cell_type": "code",
   "execution_count": 19,
   "metadata": {},
   "outputs": [
    {
     "data": {
      "text/latex": [
       "$\\displaystyle - \\frac{9}{20}$"
      ],
      "text/plain": [
       "-9/20"
      ]
     },
     "execution_count": 19,
     "metadata": {},
     "output_type": "execute_result"
    }
   ],
   "source": [
    "integrate(-x**4/3 + x**3 - 4*x/3,(x,-1,2))"
   ]
  },
  {
   "cell_type": "markdown",
   "metadata": {},
   "source": [
    "## Пример 17"
   ]
  },
  {
   "cell_type": "code",
   "execution_count": 20,
   "metadata": {},
   "outputs": [
    {
     "data": {
      "text/latex": [
       "$\\displaystyle \\frac{1}{6}$"
      ],
      "text/plain": [
       "1/6"
      ]
     },
     "execution_count": 20,
     "metadata": {},
     "output_type": "execute_result"
    }
   ],
   "source": [
    "integrate(-x**2+7*x-6-2*x,(x,2,3))"
   ]
  },
  {
   "cell_type": "markdown",
   "metadata": {},
   "source": [
    "## Пример 18"
   ]
  },
  {
   "cell_type": "code",
   "execution_count": 21,
   "metadata": {},
   "outputs": [
    {
     "data": {
      "text/latex": [
       "$\\displaystyle \\frac{9}{2}$"
      ],
      "text/plain": [
       "9/2"
      ]
     },
     "execution_count": 21,
     "metadata": {},
     "output_type": "execute_result"
    }
   ],
   "source": [
    "integrate(-x**2+5*x-10+2*x,(x,2,5))"
   ]
  },
  {
   "cell_type": "markdown",
   "metadata": {},
   "source": [
    "## Пример 19"
   ]
  },
  {
   "cell_type": "code",
   "execution_count": 22,
   "metadata": {},
   "outputs": [
    {
     "data": {
      "text/latex": [
       "$\\displaystyle \\frac{1}{6}$"
      ],
      "text/plain": [
       "1/6"
      ]
     },
     "execution_count": 22,
     "metadata": {},
     "output_type": "execute_result"
    }
   ],
   "source": [
    "integrate(-x**2+3*x-6+2*x,(x,2,3))"
   ]
  },
  {
   "cell_type": "markdown",
   "metadata": {},
   "source": [
    "## Пример 20"
   ]
  },
  {
   "cell_type": "code",
   "execution_count": 23,
   "metadata": {},
   "outputs": [
    {
     "data": {
      "text/latex": [
       "$\\displaystyle \\frac{1456 \\pi}{15}$"
      ],
      "text/plain": [
       "1456*pi/15"
      ]
     },
     "execution_count": 23,
     "metadata": {},
     "output_type": "execute_result"
    }
   ],
   "source": [
    "pi*integrate((x**2-x)**2,(x,2,4))"
   ]
  },
  {
   "cell_type": "markdown",
   "metadata": {},
   "source": [
    "## Пример 21"
   ]
  },
  {
   "cell_type": "code",
   "execution_count": 24,
   "metadata": {},
   "outputs": [
    {
     "data": {
      "text/latex": [
       "$\\displaystyle \\frac{928 \\pi}{3}$"
      ],
      "text/plain": [
       "928*pi/3"
      ]
     },
     "execution_count": 24,
     "metadata": {},
     "output_type": "execute_result"
    }
   ],
   "source": [
    "pi*integrate(((sqrt(3-x)) **2-(-x-53)**2),(x,-61,-53))"
   ]
  },
  {
   "cell_type": "markdown",
   "metadata": {},
   "source": [
    "## Пример 22"
   ]
  },
  {
   "cell_type": "code",
   "execution_count": 25,
   "metadata": {},
   "outputs": [
    {
     "data": {
      "text/latex": [
       "$\\displaystyle - \\frac{\\sqrt{5}}{2} - \\frac{\\operatorname{asinh}{\\left(2 \\right)}}{4} + \\frac{\\operatorname{asinh}{\\left(4 \\right)}}{4} + \\sqrt{17}$"
      ],
      "text/plain": [
       "-sqrt(5)/2 - asinh(2)/4 + asinh(4)/4 + sqrt(17)"
      ]
     },
     "execution_count": 25,
     "metadata": {},
     "output_type": "execute_result"
    }
   ],
   "source": [
    "integrate(sqrt(1+diff(x**2)**2),(x,1,2))"
   ]
  },
  {
   "cell_type": "markdown",
   "metadata": {},
   "source": [
    "## Пример 23"
   ]
  },
  {
   "cell_type": "code",
   "execution_count": 26,
   "metadata": {},
   "outputs": [
    {
     "data": {
      "text/latex": [
       "$\\displaystyle 1.43970987337155$"
      ],
      "text/plain": [
       "1.43970987337155"
      ]
     },
     "execution_count": 26,
     "metadata": {},
     "output_type": "execute_result"
    }
   ],
   "source": [
    "integrate(sqrt(1+diff(pow(x,3/2))**2),(x,0,1))"
   ]
  },
  {
   "cell_type": "markdown",
   "metadata": {},
   "source": [
    "## Пример 24"
   ]
  },
  {
   "cell_type": "code",
   "execution_count": 27,
   "metadata": {},
   "outputs": [
    {
     "data": {
      "text/latex": [
       "$\\displaystyle \\frac{6 x^{7}}{7} - 230 x$"
      ],
      "text/plain": [
       "6*x**7/7 - 230*x"
      ]
     },
     "execution_count": 27,
     "metadata": {},
     "output_type": "execute_result"
    }
   ],
   "source": [
    "integrate(6*x**6-230,x)"
   ]
  },
  {
   "cell_type": "markdown",
   "metadata": {},
   "source": [
    "## Пример 25"
   ]
  },
  {
   "cell_type": "code",
   "execution_count": 28,
   "metadata": {},
   "outputs": [
    {
     "data": {
      "text/latex": [
       "$\\displaystyle 3 x^{6} + 4 x^{5} + \\frac{17 x^{4}}{4}$"
      ],
      "text/plain": [
       "3*x**6 + 4*x**5 + 17*x**4/4"
      ]
     },
     "execution_count": 28,
     "metadata": {},
     "output_type": "execute_result"
    }
   ],
   "source": [
    "integrate(18*x**5+20*x**4+17*x**3,x)"
   ]
  },
  {
   "cell_type": "markdown",
   "metadata": {},
   "source": [
    "## Пример 26"
   ]
  },
  {
   "cell_type": "code",
   "execution_count": 29,
   "metadata": {},
   "outputs": [
    {
     "data": {
      "text/latex": [
       "$\\displaystyle 0.128205128205128 e^{7.8 x}$"
      ],
      "text/plain": [
       "0.128205128205128*exp(7.8*x)"
      ]
     },
     "execution_count": 29,
     "metadata": {},
     "output_type": "execute_result"
    }
   ],
   "source": [
    "integrate(exp(7.8*x),x)"
   ]
  },
  {
   "cell_type": "markdown",
   "metadata": {},
   "source": [
    "## Пример 27"
   ]
  },
  {
   "cell_type": "code",
   "execution_count": 30,
   "metadata": {},
   "outputs": [
    {
     "data": {
      "text/latex": [
       "$\\displaystyle 192$"
      ],
      "text/plain": [
       "192"
      ]
     },
     "execution_count": 30,
     "metadata": {},
     "output_type": "execute_result"
    }
   ],
   "source": [
    "integrate(8+4*sin(pi/4*(x+7)),(x,0,24))"
   ]
  },
  {
   "cell_type": "markdown",
   "metadata": {},
   "source": [
    "## Пример 28"
   ]
  },
  {
   "cell_type": "code",
   "execution_count": 31,
   "metadata": {},
   "outputs": [
    {
     "data": {
      "text/latex": [
       "$\\displaystyle - \\frac{1}{4} + \\frac{13 e^{12}}{4}$"
      ],
      "text/plain": [
       "-1/4 + 13*exp(12)/4"
      ]
     },
     "execution_count": 31,
     "metadata": {},
     "output_type": "execute_result"
    }
   ],
   "source": [
    "integrate((1+x)*exp(2*x),(x,0,6))"
   ]
  },
  {
   "cell_type": "markdown",
   "metadata": {},
   "source": [
    "## Примеры решения задач"
   ]
  },
  {
   "cell_type": "markdown",
   "metadata": {},
   "source": [
    "Найдите неопределённый интеграл $\\int 6sin^2(\\frac{x}{2}) \\,dx$"
   ]
  },
  {
   "cell_type": "code",
   "execution_count": 32,
   "metadata": {},
   "outputs": [
    {
     "data": {
      "text/latex": [
       "$\\displaystyle 3 x - 6 \\sin{\\left(\\frac{x}{2} \\right)} \\cos{\\left(\\frac{x}{2} \\right)}$"
      ],
      "text/plain": [
       "3*x - 6*sin(x/2)*cos(x/2)"
      ]
     },
     "execution_count": 32,
     "metadata": {},
     "output_type": "execute_result"
    }
   ],
   "source": [
    "integrate(6*sin(x/2)**2,x)"
   ]
  },
  {
   "cell_type": "markdown",
   "metadata": {},
   "source": [
    "Вычислите интеграл $\\int (4x + 3)^2 \\,dx$"
   ]
  },
  {
   "cell_type": "code",
   "execution_count": 33,
   "metadata": {},
   "outputs": [
    {
     "data": {
      "text/latex": [
       "$\\displaystyle \\frac{16 x^{3}}{3} + 12 x^{2} + 9 x$"
      ],
      "text/plain": [
       "16*x**3/3 + 12*x**2 + 9*x"
      ]
     },
     "execution_count": 33,
     "metadata": {},
     "output_type": "execute_result"
    }
   ],
   "source": [
    "integrate((4*x+3)**2,x)"
   ]
  },
  {
   "cell_type": "markdown",
   "metadata": {},
   "source": [
    "Найдите неопределённый интеграл $\\int \\frac{dx}{-x^2-8x-12}$"
   ]
  },
  {
   "cell_type": "code",
   "execution_count": 34,
   "metadata": {},
   "outputs": [
    {
     "data": {
      "text/latex": [
       "$\\displaystyle - \\frac{\\log{\\left(x + 2 \\right)}}{4} + \\frac{\\log{\\left(x + 6 \\right)}}{4}$"
      ],
      "text/plain": [
       "-log(x + 2)/4 + log(x + 6)/4"
      ]
     },
     "execution_count": 34,
     "metadata": {},
     "output_type": "execute_result"
    }
   ],
   "source": [
    "integrate(1/((-x**2-8*x-12)),x)"
   ]
  },
  {
   "cell_type": "markdown",
   "metadata": {},
   "source": [
    "Найдите неопределённый интеграл $\\int tg2x \\,dx$"
   ]
  },
  {
   "cell_type": "code",
   "execution_count": 35,
   "metadata": {},
   "outputs": [
    {
     "data": {
      "text/latex": [
       "$\\displaystyle - \\frac{\\log{\\left(\\cos{\\left(2 x \\right)} \\right)}}{2}$"
      ],
      "text/plain": [
       "-log(cos(2*x))/2"
      ]
     },
     "execution_count": 35,
     "metadata": {},
     "output_type": "execute_result"
    }
   ],
   "source": [
    "integrate(tan(2*x),x)"
   ]
  },
  {
   "cell_type": "markdown",
   "metadata": {},
   "source": [
    "Найдите определённый интеграл $\\int_{2}^{3} x(28-3x^2)^\\frac{1}{5} \\,dx$"
   ]
  },
  {
   "cell_type": "code",
   "execution_count": 36,
   "metadata": {},
   "outputs": [
    {
     "data": {
      "text/latex": [
       "$\\displaystyle \\int\\limits_{2}^{3} \\begin{cases} - 0.999999999999999 x \\left(3 x^{2} - 28\\right)^{0.2} e^{1.2 i \\pi} & \\text{for}\\: x^{2} > \\frac{28}{3} \\\\0.999999999999999 x \\left(28 - 3 x^{2}\\right)^{0.2} & \\text{otherwise} \\end{cases}\\, dx$"
      ],
      "text/plain": [
       "Integral(Piecewise((-0.999999999999999*x*(3*x**2 - 28)**0.2*exp(1.2*I*pi), x**2 > 28/3), (0.999999999999999*x*(28 - 3*x**2)**0.2, True)), (x, 2, 3))"
      ]
     },
     "execution_count": 36,
     "metadata": {},
     "output_type": "execute_result"
    }
   ],
   "source": [
    "integrate(x*(28-3*x**2)**(1/5),(x,2,3))"
   ]
  },
  {
   "cell_type": "markdown",
   "metadata": {},
   "source": [
    "Найдите определённый интеграл $\\int_{10^{-7}}^{1} \\frac{lgx}{x} \\,dx$"
   ]
  },
  {
   "cell_type": "code",
   "execution_count": 37,
   "metadata": {},
   "outputs": [
    {
     "data": {
      "text/latex": [
       "$\\displaystyle - \\frac{129.896503706721}{\\log{\\left(10 \\right)}}$"
      ],
      "text/plain": [
       "-129.896503706721/log(10)"
      ]
     },
     "execution_count": 37,
     "metadata": {},
     "output_type": "execute_result"
    }
   ],
   "source": [
    "integrate(log(x,10)/x,(x,10**(-7),1))"
   ]
  },
  {
   "cell_type": "markdown",
   "metadata": {},
   "source": [
    "Найдите несобственный интеграл или установите его расходимость $\\int_{-30}^{+\\infty} \\frac{dx}{x^2+10x+50}$"
   ]
  },
  {
   "cell_type": "code",
   "execution_count": 38,
   "metadata": {},
   "outputs": [
    {
     "data": {
      "text/latex": [
       "$\\displaystyle \\frac{\\operatorname{atan}{\\left(5 \\right)}}{5} + \\frac{\\pi}{10}$"
      ],
      "text/plain": [
       "atan(5)/5 + pi/10"
      ]
     },
     "execution_count": 38,
     "metadata": {},
     "output_type": "execute_result"
    }
   ],
   "source": [
    "integrate(1/(x**2+10*x+50),(x,-30,oo))"
   ]
  },
  {
   "cell_type": "markdown",
   "metadata": {},
   "source": [
    "Найти площадь фигуры, ограниченной линиями $у = 5х$, $у = 3х^2 - 9х +15$."
   ]
  },
  {
   "cell_type": "code",
   "execution_count": 39,
   "metadata": {},
   "outputs": [
    {
     "data": {
      "text/plain": [
       "[5/3, 3]"
      ]
     },
     "execution_count": 39,
     "metadata": {},
     "output_type": "execute_result"
    }
   ],
   "source": [
    "solve(5*x-(3*x**2-9*x+15),x)"
   ]
  },
  {
   "cell_type": "code",
   "execution_count": 40,
   "metadata": {},
   "outputs": [
    {
     "data": {
      "text/latex": [
       "$\\displaystyle 1.18518518518518$"
      ],
      "text/plain": [
       "1.18518518518518"
      ]
     },
     "execution_count": 40,
     "metadata": {},
     "output_type": "execute_result"
    }
   ],
   "source": [
    "abs(integrate(5*x- (3*x**2-9*x+15), (x, 5/3,3)))"
   ]
  },
  {
   "cell_type": "markdown",
   "metadata": {},
   "source": [
    "Вычислить кратный интеграл $\\iint (3y^2x + 7xy) \\,dxdy$ по области $D = {(x,y)\\in R -3 \\leq x \\leq -2, -x \\leq y \\leq 2}$."
   ]
  },
  {
   "cell_type": "code",
   "execution_count": 41,
   "metadata": {},
   "outputs": [
    {
     "data": {
      "text/latex": [
       "$\\displaystyle \\frac{1763}{40}$"
      ],
      "text/plain": [
       "1763/40"
      ]
     },
     "execution_count": 41,
     "metadata": {},
     "output_type": "execute_result"
    }
   ],
   "source": [
    "x, y = symbols(\"x у\")\n",
    "f = (3*y ** 2*x+7*x*y)\n",
    "integrate(f, (y, -x, 2), (x, -3, -2))"
   ]
  },
  {
   "cell_type": "markdown",
   "metadata": {},
   "source": [
    "## Индивидуальное задание"
   ]
  },
  {
   "cell_type": "markdown",
   "metadata": {},
   "source": [
    "Компания производит лампочки, и вероятность того, что лампочка окажется бракованной, определяется функцией $f(x) = 2x$, где $x$ — количество дефектных лампочек в партии из 10 штук. Какова вероятность того, что в партии будет не менее одной неисправной лампочки?"
   ]
  },
  {
   "cell_type": "code",
   "execution_count": 42,
   "metadata": {},
   "outputs": [
    {
     "data": {
      "text/latex": [
       "$\\displaystyle \\frac{x}{5}$"
      ],
      "text/plain": [
       "x/5"
      ]
     },
     "execution_count": 42,
     "metadata": {},
     "output_type": "execute_result"
    }
   ],
   "source": [
    "x = Symbol('x')\n",
    "n = 10\n",
    "f = 2 * x / n\n",
    "f"
   ]
  },
  {
   "cell_type": "code",
   "execution_count": 43,
   "metadata": {},
   "outputs": [
    {
     "data": {
      "text/latex": [
       "$\\displaystyle 1 - \\left(1 - \\frac{x}{5}\\right)^{10}$"
      ],
      "text/plain": [
       "1 - (1 - x/5)**10"
      ]
     },
     "execution_count": 43,
     "metadata": {},
     "output_type": "execute_result"
    }
   ],
   "source": [
    "prob = 1 - (1 - f) ** n\n",
    "prob"
   ]
  },
  {
   "cell_type": "code",
   "execution_count": 44,
   "metadata": {},
   "outputs": [
    {
     "data": {
      "text/latex": [
       "$\\displaystyle 1 - \\frac{\\left(x - 5\\right)^{10}}{9765625}$"
      ],
      "text/plain": [
       "1 - (x - 5)**10/9765625"
      ]
     },
     "execution_count": 44,
     "metadata": {},
     "output_type": "execute_result"
    }
   ],
   "source": [
    "prob = prob.simplify()\n",
    "prob"
   ]
  },
  {
   "cell_type": "code",
   "execution_count": 45,
   "metadata": {},
   "outputs": [
    {
     "data": {
      "text/plain": [
       "0.8926258176"
      ]
     },
     "execution_count": 45,
     "metadata": {},
     "output_type": "execute_result"
    }
   ],
   "source": [
    "prob = prob.subs(x, 1)\n",
    "float(prob)"
   ]
  },
  {
   "cell_type": "markdown",
   "metadata": {},
   "source": [
    "Составить граффик вероятностей при изменении количества лампочек в партии"
   ]
  },
  {
   "cell_type": "code",
   "execution_count": 46,
   "metadata": {},
   "outputs": [
    {
     "data": {
      "image/png": "[encoded data removed]",
      "text/plain": [
       "<Figure size 640x480 with 1 Axes>"
      ]
     },
     "metadata": {},
     "output_type": "display_data"
    }
   ],
   "source": [
    "import numpy as np\n",
    "import matplotlib.pyplot as plt\n",
    "%matplotlib inline\n",
    "\n",
    "x_ax = []\n",
    "y_ax = []\n",
    "\n",
    "for n in range(10, 60):\n",
    "    x = Symbol('x')\n",
    "    f = 2 * x / n\n",
    "    prob = 1 - (1 - f) ** n\n",
    "    prob = prob.simplify()\n",
    "    prob = prob.subs(x, 1)\n",
    "    y_ax.append(float(prob))\n",
    "    x_ax.append(n)\n",
    "\n",
    "fig, ax = plt.subplots()\n",
    "ax.plot(x_ax, y_ax)\n",
    "ax.set_xlabel('x')\n",
    "ax.set_ylabel('y')\n",
    "\n",
    "plt.show()"
   ]
  },
  {
   "cell_type": "markdown",
   "metadata": {},
   "source": [
    "Как видно из выше сформированного графика, дфункция $f(x)=2x$ для определения вероятности брака, при увеличении размера партии, у нас уменьшается количество бракованных лампочек"
   ]
  },
  {
   "cell_type": "code",
   "execution_count": null,
   "metadata": {},
   "outputs": [],
   "source": []
  }
 ],
 "metadata": {
  "kernelspec": {
   "display_name": "Python 3 (ipykernel)",
   "language": "python",
   "name": "python3"
  },
  "language_info": {
   "codemirror_mode": {
    "name": "ipython",
    "version": 3
   },
   "file_extension": ".py",
   "mimetype": "text/x-python",
   "name": "python",
   "nbconvert_exporter": "python",
   "pygments_lexer": "ipython3",
   "version": "3.10.9"
  }
 },
 "nbformat": 4,
 "nbformat_minor": 4
}
