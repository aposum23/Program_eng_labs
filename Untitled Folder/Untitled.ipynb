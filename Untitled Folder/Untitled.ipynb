{
 "cells": [
  {
   "cell_type": "markdown",
   "id": "10e62a18",
   "metadata": {},
   "source": [
    "<h1>Производная</h1>"
   ]
  },
  {
   "cell_type": "markdown",
   "id": "032e66e2",
   "metadata": {},
   "source": [
    "<h2>Вычисление производных</h2>"
   ]
  },
  {
   "cell_type": "code",
   "execution_count": 6,
   "id": "20359bad",
   "metadata": {},
   "outputs": [],
   "source": [
    "from sympy import *"
   ]
  },
  {
   "cell_type": "code",
   "execution_count": 12,
   "id": "210b37a9",
   "metadata": {},
   "outputs": [
    {
     "data": {
      "text/latex": [
       "$\\displaystyle - x \\sin{\\left(x \\right)} + \\cos{\\left(x \\right)}$"
      ],
      "text/plain": [
       "-x*sin(x) + cos(x)"
      ]
     },
     "execution_count": 12,
     "metadata": {},
     "output_type": "execute_result"
    }
   ],
   "source": [
    "x = symbols('x')\n",
    "у = (x*cos(x), x)\n",
    "diff(x*cos(x), x)"
   ]
  },
  {
   "cell_type": "code",
   "execution_count": 13,
   "id": "e6f4f969",
   "metadata": {},
   "outputs": [
    {
     "data": {
      "text/latex": [
       "$\\displaystyle \\frac{2}{x^{3}}$"
      ],
      "text/plain": [
       "2/x**3"
      ]
     },
     "execution_count": 13,
     "metadata": {},
     "output_type": "execute_result"
    }
   ],
   "source": [
    "diff(log(x), x, 3)"
   ]
  },
  {
   "cell_type": "code",
   "execution_count": 14,
   "id": "5dd4114f",
   "metadata": {},
   "outputs": [
    {
     "data": {
      "text/latex": [
       "$\\displaystyle \\frac{2}{x^{3}}$"
      ],
      "text/plain": [
       "2/x**3"
      ]
     },
     "execution_count": 14,
     "metadata": {},
     "output_type": "execute_result"
    }
   ],
   "source": [
    "diff(log(x), x, x, x)"
   ]
  },
  {
   "cell_type": "code",
   "execution_count": 19,
   "id": "b416675a",
   "metadata": {},
   "outputs": [
    {
     "data": {
      "text/latex": [
       "$\\displaystyle - \\frac{9 \\left(-6 + \\log{\\left(1000 \\right)}\\right) \\log{\\left(1000 \\right)}}{100 \\log{\\left(10 \\right)}^{3}}$"
      ],
      "text/plain": [
       "-9*(-6 + log(1000))*log(1000)/(100*log(10)**3)"
      ]
     },
     "execution_count": 19,
     "metadata": {},
     "output_type": "execute_result"
    }
   ],
   "source": [
    "y = log(x**3,10)**3\n",
    "diff(y,x,2).subs(x,10)"
   ]
  },
  {
   "cell_type": "code",
   "execution_count": 20,
   "id": "dfcaba29",
   "metadata": {},
   "outputs": [
    {
     "data": {
      "text/latex": [
       "$\\displaystyle \\frac{81 \\left(2 - \\log{\\left(10 \\right)}\\right)}{100 \\log{\\left(10 \\right)}^{2}}$"
      ],
      "text/plain": [
       "81*(2 - log(10))/(100*log(10)**2)"
      ]
     },
     "execution_count": 20,
     "metadata": {},
     "output_type": "execute_result"
    }
   ],
   "source": [
    "y = log(x**3,10)**3\n",
    "diff(y,x,2).subs(x,10).simplify()"
   ]
  },
  {
   "cell_type": "code",
   "execution_count": 22,
   "id": "e4bdf6ee",
   "metadata": {},
   "outputs": [],
   "source": [
    "y = (x**2+х-6)/(x**2-10*х+25)\n",
    "z = diff(y,x)"
   ]
  },
  {
   "cell_type": "code",
   "execution_count": 23,
   "id": "60bc6ca0",
   "metadata": {},
   "outputs": [
    {
     "data": {
      "text/plain": [
       "[7/11]"
      ]
     },
     "execution_count": 23,
     "metadata": {},
     "output_type": "execute_result"
    }
   ],
   "source": [
    "solve(z, x)"
   ]
  },
  {
   "cell_type": "markdown",
   "id": "bb93d180",
   "metadata": {},
   "source": [
    "<h3>Производная неявной функции</h3>"
   ]
  },
  {
   "cell_type": "code",
   "execution_count": 27,
   "id": "d37737d2",
   "metadata": {},
   "outputs": [
    {
     "data": {
      "text/latex": [
       "$\\displaystyle - \\frac{x}{y}$"
      ],
      "text/plain": [
       "-x/y"
      ]
     },
     "execution_count": 27,
     "metadata": {},
     "output_type": "execute_result"
    }
   ],
   "source": [
    "x = symbols('x')\n",
    "y = symbols('y')\n",
    "f = x**2 + y**2 - 4\n",
    "idiff(f, y, x)"
   ]
  },
  {
   "cell_type": "code",
   "execution_count": 32,
   "id": "f3853413",
   "metadata": {},
   "outputs": [
    {
     "data": {
      "text/latex": [
       "$\\displaystyle \\frac{- \\frac{x^{2}}{y} - y}{y^{2}}$"
      ],
      "text/plain": [
       "(-x**2/y - y)/y**2"
      ]
     },
     "execution_count": 32,
     "metadata": {},
     "output_type": "execute_result"
    }
   ],
   "source": [
    "f = x**2 + y**2 - 4\n",
    "idiff(f, y, x, 2)"
   ]
  },
  {
   "cell_type": "code",
   "execution_count": 33,
   "id": "ef08061e",
   "metadata": {},
   "outputs": [
    {
     "data": {
      "text/latex": [
       "$\\displaystyle - \\frac{x^{2} + y^{2}}{y^{3}}$"
      ],
      "text/plain": [
       "-(x**2 + y**2)/y**3"
      ]
     },
     "execution_count": 33,
     "metadata": {},
     "output_type": "execute_result"
    }
   ],
   "source": [
    "idiff(f, y, x, 2).simplify()"
   ]
  },
  {
   "cell_type": "markdown",
   "id": "de387870",
   "metadata": {},
   "source": [
    "<h2>Производная функции, заданной в параметрической форме</h2>"
   ]
  },
  {
   "cell_type": "code",
   "execution_count": 34,
   "id": "20afc255",
   "metadata": {},
   "outputs": [
    {
     "data": {
      "text/latex": [
       "$\\displaystyle \\frac{\\sin{\\left(t \\right)}}{1 - \\cos{\\left(t \\right)}}$"
      ],
      "text/plain": [
       "sin(t)/(1 - cos(t))"
      ]
     },
     "execution_count": 34,
     "metadata": {},
     "output_type": "execute_result"
    }
   ],
   "source": [
    "t = symbols('t')\n",
    "x = t - sin(t)\n",
    "y = 1 - cos(t)\n",
    "\n",
    "y_diff = diff(y, t)/diff(x,t)\n",
    "y_diff"
   ]
  },
  {
   "cell_type": "code",
   "execution_count": 35,
   "id": "88ff2906",
   "metadata": {},
   "outputs": [
    {
     "data": {
      "text/latex": [
       "$\\displaystyle - \\frac{1}{\\left(\\cos{\\left(t \\right)} - 1\\right)^{2}}$"
      ],
      "text/plain": [
       "-1/(cos(t) - 1)**2"
      ]
     },
     "execution_count": 35,
     "metadata": {},
     "output_type": "execute_result"
    }
   ],
   "source": [
    "y_2diff = diff(y_diff, t)/diff(x, t)\n",
    "y_2diff.simplify()"
   ]
  },
  {
   "cell_type": "markdown",
   "id": "7e4a8d09",
   "metadata": {},
   "source": [
    "<h2>Односторонняя производная</h2>"
   ]
  },
  {
   "cell_type": "code",
   "execution_count": 39,
   "id": "7ad8c25c",
   "metadata": {},
   "outputs": [
    {
     "data": {
      "text/plain": [
       "<function matplotlib.pyplot.show(close=None, block=None)>"
      ]
     },
     "execution_count": 39,
     "metadata": {},
     "output_type": "execute_result"
    },
    {
     "data": {
      "image/png": "[encoded data removed]",
      "text/plain": [
       "<Figure size 432x288 with 1 Axes>"
      ]
     },
     "metadata": {
      "needs_background": "light"
     },
     "output_type": "display_data"
    }
   ],
   "source": [
    "import numpy as np\n",
    "import matplotlib.pyplot as plt\n",
    "%matplotlib inline\n",
    "x = np.linspace(-2, 2, 500)\n",
    "\n",
    "x[(x>-0.01)&(x<0.01)] = np.nan\n",
    "y = np.arctan(1/x)\n",
    "plt.plot(x, y)\n",
    "plt.vlines(0, -1.6, 1.6, color='g', linestyles='dashed')\n",
    "plt.show"
   ]
  },
  {
   "cell_type": "code",
   "execution_count": 41,
   "id": "191222e8",
   "metadata": {},
   "outputs": [
    {
     "data": {
      "text/latex": [
       "$\\displaystyle -1$"
      ],
      "text/plain": [
       "-1"
      ]
     },
     "execution_count": 41,
     "metadata": {},
     "output_type": "execute_result"
    }
   ],
   "source": [
    "x = symbols('x')\n",
    "y = atan(1/x)\n",
    "z = diff(y, x)\n",
    "limit(z, x, 0, dir='-')"
   ]
  },
  {
   "cell_type": "code",
   "execution_count": 42,
   "id": "85e14955",
   "metadata": {},
   "outputs": [
    {
     "data": {
      "text/latex": [
       "$\\displaystyle -1$"
      ],
      "text/plain": [
       "-1"
      ]
     },
     "execution_count": 42,
     "metadata": {},
     "output_type": "execute_result"
    }
   ],
   "source": [
    "limit(z, x, 0, dir='+')"
   ]
  },
  {
   "cell_type": "markdown",
   "id": "2a5849ff",
   "metadata": {},
   "source": [
    "<h2>Применение производной при исследовании функции</h2>"
   ]
  },
  {
   "cell_type": "markdown",
   "id": "ff02615c",
   "metadata": {},
   "source": [
    "<h2>Уравнение касательной</h2>"
   ]
  },
  {
   "cell_type": "code",
   "execution_count": 45,
   "id": "86b38ef7",
   "metadata": {},
   "outputs": [],
   "source": [
    "def tangent(y, x0):\n",
    "    y0 = y.subs(x, x0)\n",
    "    x1 = x0 + 1\n",
    "    k = diff(y,x).subs(x, x0)\n",
    "    y1 = y0 + k\n",
    "    return Line((x0, y0), (x1, y1))"
   ]
  },
  {
   "cell_type": "code",
   "execution_count": 46,
   "id": "7e090613",
   "metadata": {},
   "outputs": [
    {
     "data": {
      "text/latex": [
       "$\\displaystyle - 4 x + y + 4$"
      ],
      "text/plain": [
       "-4*x + y + 4"
      ]
     },
     "execution_count": 46,
     "metadata": {},
     "output_type": "execute_result"
    }
   ],
   "source": [
    "x = symbols('x')\n",
    "y = x**2\n",
    "x0 = 2\n",
    "tangent(y, x0).equation()"
   ]
  },
  {
   "cell_type": "code",
   "execution_count": 48,
   "id": "e1996107",
   "metadata": {},
   "outputs": [
    {
     "data": {
      "image/png": "[encoded data removed]",
      "text/plain": [
       "<Figure size 432x288 with 1 Axes>"
      ]
     },
     "metadata": {
      "needs_background": "light"
     },
     "output_type": "display_data"
    }
   ],
   "source": [
    "import numpy as np\n",
    "\n",
    "x = np.linspace(-3, 4, 50)\n",
    "y1 = x**2\n",
    "plt.plot(x, y1, lw=2, c='b')\n",
    "\n",
    "x = np.linspace(-1, 4, 50)\n",
    "y2 = 4*x - 4\n",
    "plt.plot(x, y2, c='r')\n",
    "\n",
    "plt.xlabel('x')\n",
    "plt.ylabel('y')\n",
    "\n",
    "plt.grid(True, linestyle='-', color='0.4')\n",
    "\n",
    "plt.show()"
   ]
  },
  {
   "cell_type": "code",
   "execution_count": 49,
   "id": "28c176ae",
   "metadata": {},
   "outputs": [
    {
     "data": {
      "text/latex": [
       "$\\displaystyle - \\frac{x}{4} + y - 24$"
      ],
      "text/plain": [
       "-x/4 + y - 24"
      ]
     },
     "execution_count": 49,
     "metadata": {},
     "output_type": "execute_result"
    }
   ],
   "source": [
    "x = symbols('x')\n",
    "y = 6*x**(1/3)+2*sqrt(x)\n",
    "x0 = 64\n",
    "y0 = y.subs(x, x0)\n",
    "l = tangent(y, 64)\n",
    "l.equation()"
   ]
  },
  {
   "cell_type": "code",
   "execution_count": 50,
   "id": "c8603177",
   "metadata": {},
   "outputs": [
    {
     "data": {
      "text/latex": [
       "$\\displaystyle - x - \\frac{y}{4} + 74$"
      ],
      "text/plain": [
       "-x - y/4 + 74"
      ]
     },
     "execution_count": 50,
     "metadata": {},
     "output_type": "execute_result"
    }
   ],
   "source": [
    "p = Point(x0, y0)\n",
    "l.perpendicular_line(p).equation()"
   ]
  },
  {
   "cell_type": "code",
   "execution_count": 52,
   "id": "bcfb3e6c",
   "metadata": {},
   "outputs": [
    {
     "data": {
      "image/png": "[encoded data removed]",
      "text/plain": [
       "<Figure size 432x288 with 1 Axes>"
      ]
     },
     "metadata": {
      "needs_background": "light"
     },
     "output_type": "display_data"
    }
   ],
   "source": [
    "x = np.linspace(0, 120, 50)\n",
    "y1 = 6*x**(1/3) + 2 *x**(1/2)\n",
    "plt.plot(x, y1, lw=2, c='r')\n",
    "\n",
    "x = np.linspace(10,120,50)\n",
    "y2 = x/4 + 24\n",
    "plt.plot(x, y2, '--', lw=2, c='b')\n",
    "\n",
    "x = np.linspace(60, 70, 50)\n",
    "y3 = 296 - 4*x\n",
    "plt.plot(x, y3, '-.', lw=2, c='g')\n",
    "\n",
    "plt.xlabel('x')\n",
    "plt.ylabel('y')\n",
    "plt.grid(True, linestyle='-', color='0.4')\n",
    "plt.axis('equal')\n",
    "plt.show()"
   ]
  },
  {
   "cell_type": "code",
   "execution_count": 58,
   "id": "24feb242",
   "metadata": {},
   "outputs": [],
   "source": [
    "def tangent_from_point(y, x1, y1):\n",
    "    x, x0, y0 = symbols('x x0 y0')\n",
    "    y_diff = diff(y,x).subs(x, x0)\n",
    "    y_tang = y_diff*(x-x0) +y0\n",
    "    first_eq = y.subs(x,x0) - y0\n",
    "    secons_eq = y_tang.subs(x, x1) - y1\n",
    "    res = solve([first_eq, secons_eq], [x0, y0], dict=True)\n",
    "    if len(res) == 1:\n",
    "        x01 = res[0][x0]\n",
    "        y01 = res[0][y0]\n",
    "        return Line((x01, y01), (x1, y1))\n",
    "    else:\n",
    "        x021 = res[0][x0]; y021 = res[0][y0]\n",
    "        x022 = res[1][x0]; y022 = res[1][y0]\n",
    "        return Line((x021, y021), (x1, y1)), Line((x022, y022), (x1, y1))"
   ]
  },
  {
   "cell_type": "code",
   "execution_count": 59,
   "id": "1a2a2f51",
   "metadata": {},
   "outputs": [
    {
     "data": {
      "text/latex": [
       "$\\displaystyle 2 x - 8 y + 8$"
      ],
      "text/plain": [
       "2*x - 8*y + 8"
      ]
     },
     "execution_count": 59,
     "metadata": {},
     "output_type": "execute_result"
    }
   ],
   "source": [
    "x1, y1, x = symbols('x1, y1 x')\n",
    "x1 = -4\n",
    "y1 = 0\n",
    "y = sqrt(x)\n",
    "tangent_from_point(y, x1, y1).equation()"
   ]
  },
  {
   "cell_type": "code",
   "execution_count": 61,
   "id": "92399e9a",
   "metadata": {},
   "outputs": [
    {
     "data": {
      "text/latex": [
       "$\\displaystyle 2 x - 8 y + 8$"
      ],
      "text/plain": [
       "2*x - 8*y + 8"
      ]
     },
     "execution_count": 61,
     "metadata": {},
     "output_type": "execute_result"
    }
   ],
   "source": [
    "x1, y1, x = symbols('x1 y1 x')\n",
    "x1 = -4\n",
    "y1 = 0\n",
    "y = sqrt(x)\n",
    "tangent_from_point(y, x1, y1).equation()"
   ]
  },
  {
   "cell_type": "code",
   "execution_count": 66,
   "id": "5ea37d7b",
   "metadata": {},
   "outputs": [
    {
     "data": {
      "image/png": "[encoded data removed]",
      "text/plain": [
       "<Figure size 432x288 with 1 Axes>"
      ]
     },
     "metadata": {
      "needs_background": "light"
     },
     "output_type": "display_data"
    }
   ],
   "source": [
    "x = np.linspace(0, 7, 50)\n",
    "y1 = np.sqrt(x)\n",
    "plt.plot(x, y1, lw=2, c='b')\n",
    "\n",
    "x = np.linspace(-4, 7, 50)\n",
    "y2 = x/4 + 1\n",
    "plt.plot(x, y2, c='r')\n",
    "\n",
    "plt.xlabel('x')\n",
    "plt.ylabel('y')\n",
    "plt.grid(True, linestyle='-', color='0.4')\n",
    "plt.show()"
   ]
  },
  {
   "cell_type": "markdown",
   "id": "78268917",
   "metadata": {},
   "source": [
    "<h2>Исследование функции</h2>"
   ]
  },
  {
   "cell_type": "code",
   "execution_count": 67,
   "id": "cd79fb9c",
   "metadata": {},
   "outputs": [
    {
     "data": {
      "image/png": "[encoded data removed]",
      "text/plain": [
       "<Figure size 432x288 with 1 Axes>"
      ]
     },
     "metadata": {
      "needs_background": "light"
     },
     "output_type": "display_data"
    }
   ],
   "source": [
    "t = np.linspace(-1.5, 5, 100)\n",
    "f = t**3 - 5*t**2 + 5\n",
    "fd = 3*t**2 - 10*t\n",
    "fdd = 6*t - 10\n",
    "plt.plot(t, f, lw=2, color='red', label=\"$t(x)$\")\n",
    "plt.plot(t, fd, '--', lw=2, color='b', label=\"$y^{'}(x)$\")\n",
    "plt.plot(f, fdd, '-.', color='g', label = \"$y^{''}(x)$\")\n",
    "plt.plot([0], [0], 'o', color='y')\n",
    "plt.plot([0], [5], 'o', color='y')\n",
    "plt.plot([3.3], [0], 'o', color='y')\n",
    "plt.plot([3.3], [-13.4], 'o', color='y')\n",
    "plt.plot([1.65], [0], 'o', color='b')\n",
    "plt.plot([1.65], [-4], 'o', color='b')\n",
    "plt.grid(True, linestyle='-', color='0.4')\n",
    "plt.legend()\n",
    "plt.show()"
   ]
  },
  {
   "cell_type": "markdown",
   "id": "cd13683f",
   "metadata": {},
   "source": [
    "<h2>Экстремум функции одной переменной</h2>"
   ]
  },
  {
   "cell_type": "code",
   "execution_count": 81,
   "id": "b046876c",
   "metadata": {},
   "outputs": [],
   "source": [
    "from scipy.optimize import minimize"
   ]
  },
  {
   "cell_type": "code",
   "execution_count": 69,
   "id": "6cbe4647",
   "metadata": {},
   "outputs": [
    {
     "data": {
      "text/latex": [
       "$\\displaystyle - \\sqrt{3} < x \\wedge x < \\sqrt{3}$"
      ],
      "text/plain": [
       "(x < sqrt(3)) & (-sqrt(3) < x)"
      ]
     },
     "execution_count": 69,
     "metadata": {},
     "output_type": "execute_result"
    }
   ],
   "source": [
    "x, y = symbols('x y')\n",
    "solve(x**2 < 3)"
   ]
  },
  {
   "cell_type": "code",
   "execution_count": 70,
   "id": "69db7d81",
   "metadata": {},
   "outputs": [
    {
     "data": {
      "text/plain": [
       "[-y, y]"
      ]
     },
     "execution_count": 70,
     "metadata": {},
     "output_type": "execute_result"
    }
   ],
   "source": [
    "solve(x**2 - y**2, x)"
   ]
  },
  {
   "cell_type": "code",
   "execution_count": 71,
   "id": "aceab279",
   "metadata": {},
   "outputs": [],
   "source": [
    "f = lambda x: np.exp(-x) - np.exp(-2*x)"
   ]
  },
  {
   "cell_type": "code",
   "execution_count": 72,
   "id": "ddede49c",
   "metadata": {},
   "outputs": [
    {
     "data": {
      "image/png": "[encoded data removed]",
      "text/plain": [
       "<Figure size 432x288 with 1 Axes>"
      ]
     },
     "metadata": {
      "needs_background": "light"
     },
     "output_type": "display_data"
    }
   ],
   "source": [
    "x = np.linspace(0.1, 4, 50)\n",
    "plt.plot(x, f(x), 'r')\n",
    "plt.xlabel('X')\n",
    "plt.ylabel('Y')\n",
    "plt.grid(True, linestyle='-', color='0.4')\n",
    "plt.show()"
   ]
  },
  {
   "cell_type": "code",
   "execution_count": 75,
   "id": "de9d9e6c",
   "metadata": {},
   "outputs": [
    {
     "name": "stdout",
     "output_type": "stream",
     "text": [
      "x_max: 0.693 f_max: 0.250\n"
     ]
    }
   ],
   "source": [
    "f_max = lambda x: -(np.exp(-x) - np.exp(-2*x))\n",
    "res = minimize(f_max, -2)\n",
    "print('x_max: %.3f f_max: %.3f' % (res.x, f(res.x)))"
   ]
  },
  {
   "cell_type": "code",
   "execution_count": 76,
   "id": "d38e522b",
   "metadata": {},
   "outputs": [
    {
     "data": {
      "text/plain": [
       "True"
      ]
     },
     "execution_count": 76,
     "metadata": {},
     "output_type": "execute_result"
    }
   ],
   "source": [
    "res.success"
   ]
  },
  {
   "cell_type": "code",
   "execution_count": 77,
   "id": "a1b45c62",
   "metadata": {},
   "outputs": [
    {
     "data": {
      "text/plain": [
       "      fun: -0.24999999999945666\n",
       " hess_inv: array([[1.98553383]])\n",
       "      jac: array([-7.26431608e-07])\n",
       "  message: 'Optimization terminated successfully.'\n",
       "     nfev: 26\n",
       "      nit: 12\n",
       "     njev: 13\n",
       "   status: 0\n",
       "  success: True\n",
       "        x: array([0.69314571])"
      ]
     },
     "execution_count": 77,
     "metadata": {},
     "output_type": "execute_result"
    }
   ],
   "source": [
    "res"
   ]
  },
  {
   "cell_type": "code",
   "execution_count": 84,
   "id": "38d85f46",
   "metadata": {},
   "outputs": [
    {
     "name": "stdout",
     "output_type": "stream",
     "text": [
      "x0: 0.693 y(x0): 0.250\n"
     ]
    }
   ],
   "source": [
    "x, y = symbols('x y')\n",
    "y = exp(-x) - exp(-2*x)\n",
    "x0 = solve(diff(y, x))[0]\n",
    "print('x0: %.3f y(x0): %.3f' % (x0, y.subs(x, x0)))"
   ]
  },
  {
   "cell_type": "code",
   "execution_count": 85,
   "id": "55873b11",
   "metadata": {},
   "outputs": [
    {
     "name": "stdout",
     "output_type": "stream",
     "text": [
      "x0: 0.000 y(x0): 0.000\n"
     ]
    }
   ],
   "source": [
    "y = x**3\n",
    "x0 = solve(diff(y, x))[0]\n",
    "print('x0: %.3f y(x0): %.3f' %(x0, y.subs(x, x0)))"
   ]
  },
  {
   "cell_type": "code",
   "execution_count": 86,
   "id": "69a2b97d",
   "metadata": {},
   "outputs": [
    {
     "data": {
      "text/latex": [
       "$\\displaystyle 0$"
      ],
      "text/plain": [
       "0"
      ]
     },
     "execution_count": 86,
     "metadata": {},
     "output_type": "execute_result"
    }
   ],
   "source": [
    "diff(y, x, 2).subs(x, x0)"
   ]
  },
  {
   "cell_type": "code",
   "execution_count": 87,
   "id": "bb8dace6",
   "metadata": {},
   "outputs": [
    {
     "data": {
      "text/latex": [
       "$\\displaystyle 6$"
      ],
      "text/plain": [
       "6"
      ]
     },
     "execution_count": 87,
     "metadata": {},
     "output_type": "execute_result"
    }
   ],
   "source": [
    "diff(y, x, 3).subs(x, x0)"
   ]
  },
  {
   "cell_type": "code",
   "execution_count": 88,
   "id": "e44646db",
   "metadata": {},
   "outputs": [
    {
     "data": {
      "image/png": "[encoded data removed]",
      "text/plain": [
       "<Figure size 432x288 with 1 Axes>"
      ]
     },
     "metadata": {
      "needs_background": "light"
     },
     "output_type": "display_data"
    }
   ],
   "source": [
    "x = np.linspace(-1, 1, 50)\n",
    "plt.plot(x, x**3, 'r')\n",
    "plt.xlabel('X')\n",
    "plt.ylabel('Y')\n",
    "plt.grid(True, linestyle='-', color='0.4')\n",
    "plt.show()"
   ]
  },
  {
   "cell_type": "code",
   "execution_count": 90,
   "id": "5b54e4a7",
   "metadata": {},
   "outputs": [
    {
     "data": {
      "image/png": "[encoded data removed]",
      "text/plain": [
       "<Figure size 432x288 with 1 Axes>"
      ]
     },
     "metadata": {
      "needs_background": "light"
     },
     "output_type": "display_data"
    }
   ],
   "source": [
    "f = lambda x: (x**3+3*x**2-1) / (x**2+1)\n",
    "x = np.linspace(-3, 2, 50)\n",
    "plt.plot(x, f(x),'r')\n",
    "plt.xlabel('X')\n",
    "plt.ylabel('Y')\n",
    "plt.grid(True, linestyle='-', color='0.4')\n",
    "plt.show()"
   ]
  },
  {
   "cell_type": "code",
   "execution_count": 91,
   "id": "4cb81443",
   "metadata": {},
   "outputs": [
    {
     "name": "stdout",
     "output_type": "stream",
     "text": [
      "x_min: 0.000 f_min: -1.000\n"
     ]
    }
   ],
   "source": [
    "res = minimize(f, 1)\n",
    "print('x_min: %.3f f_min: %.3f' % (res.x, f(res.x)))"
   ]
  },
  {
   "cell_type": "code",
   "execution_count": 92,
   "id": "9902513c",
   "metadata": {},
   "outputs": [
    {
     "name": "stdout",
     "output_type": "stream",
     "text": [
      "x_max: -1.513 f_max: 0.731\n"
     ]
    }
   ],
   "source": [
    "f_max = lambda x: -(x**3+3*x**2-1) / (x**2+1)\n",
    "res = minimize(f_max, -2)\n",
    "print('x_max: %.3f f_max: %.3f' % (res.x, f(res.x)))"
   ]
  },
  {
   "cell_type": "markdown",
   "id": "a95b525e",
   "metadata": {},
   "source": [
    "<h2>Наибольшее и наименьшее значения на отрезке</h2>"
   ]
  },
  {
   "cell_type": "code",
   "execution_count": 93,
   "id": "5e98bc90",
   "metadata": {},
   "outputs": [
    {
     "data": {
      "image/png": "[encoded data removed]",
      "text/plain": [
       "<Figure size 432x288 with 1 Axes>"
      ]
     },
     "metadata": {
      "needs_background": "light"
     },
     "output_type": "display_data"
    }
   ],
   "source": [
    "# example 16\n",
    "fun = lambda x: np.cbrt(2*(x+1)**2*(5-x)) - 2\n",
    "x = np.linspace(-3, 3, 100)\n",
    "plt.xlabel('X')\n",
    "plt.ylabel('Y')\n",
    "plt.plot(x, fun(x), 'r')\n",
    "plt.grid(True, linestyle='-', color='0.4')\n",
    "plt.show()"
   ]
  },
  {
   "cell_type": "code",
   "execution_count": 94,
   "id": "1039eaab",
   "metadata": {},
   "outputs": [
    {
     "name": "stdout",
     "output_type": "stream",
     "text": [
      "x_min: -0.490\n"
     ]
    }
   ],
   "source": [
    "res = minimize(fun, -1.5)\n",
    "print('x_min: %.3f' % res.x)"
   ]
  },
  {
   "cell_type": "code",
   "execution_count": 95,
   "id": "fa5915cd",
   "metadata": {},
   "outputs": [
    {
     "name": "stdout",
     "output_type": "stream",
     "text": [
      "x_min: -1.001\n"
     ]
    }
   ],
   "source": [
    "res = minimize(fun, -1.001)\n",
    "print('x_min: %.3f' % res.x)"
   ]
  },
  {
   "cell_type": "code",
   "execution_count": 96,
   "id": "83ef2c05",
   "metadata": {},
   "outputs": [
    {
     "name": "stdout",
     "output_type": "stream",
     "text": [
      "x_min: -1.000\n"
     ]
    }
   ],
   "source": [
    "res = minimize(fun, -1.0)\n",
    "print('x_min: %.3f' %res.x)"
   ]
  },
  {
   "cell_type": "code",
   "execution_count": 97,
   "id": "db55477c",
   "metadata": {},
   "outputs": [
    {
     "data": {
      "text/plain": [
       "array([-2.])"
      ]
     },
     "execution_count": 97,
     "metadata": {},
     "output_type": "execute_result"
    }
   ],
   "source": [
    "fun(res.x)"
   ]
  },
  {
   "cell_type": "code",
   "execution_count": 98,
   "id": "febd5467",
   "metadata": {},
   "outputs": [
    {
     "name": "stdout",
     "output_type": "stream",
     "text": [
      "y(-3): 2.000 y(3): 2.000\n"
     ]
    }
   ],
   "source": [
    "print('y(-3): %.3f y(3): %.3f' % (fun(-3), fun(3)))"
   ]
  },
  {
   "cell_type": "code",
   "execution_count": 99,
   "id": "b2994d3d",
   "metadata": {},
   "outputs": [
    {
     "data": {
      "image/png": "[encoded data removed]",
      "text/plain": [
       "<Figure size 432x288 with 1 Axes>"
      ]
     },
     "metadata": {
      "needs_background": "light"
     },
     "output_type": "display_data"
    }
   ],
   "source": [
    "# example 17\n",
    "f = lambda x: x**4 * (12 *np.log(x) - 7)\n",
    "x = np.linspace(0.001, 2, 50)\n",
    "plt.plot(x, f(x), 'r')\n",
    "plt.xlabel('X')\n",
    "plt.ylabel('Y')\n",
    "plt.grid(True, linestyle='-', color='0.4')\n",
    "plt.show()"
   ]
  },
  {
   "cell_type": "code",
   "execution_count": 101,
   "id": "bec3a3c7",
   "metadata": {},
   "outputs": [
    {
     "data": {
      "text/latex": [
       "$\\displaystyle 144 x^{2} \\log{\\left(x \\right)}$"
      ],
      "text/plain": [
       "144*x**2*log(x)"
      ]
     },
     "execution_count": 101,
     "metadata": {},
     "output_type": "execute_result"
    }
   ],
   "source": [
    "x = symbols('x')\n",
    "y = x**4 * (12*log(x) - 7)\n",
    "y_2deriv = diff(y, x, 2)\n",
    "y_2deriv"
   ]
  },
  {
   "cell_type": "code",
   "execution_count": 102,
   "id": "58c18d07",
   "metadata": {},
   "outputs": [
    {
     "data": {
      "text/plain": [
       "[0, 1]"
      ]
     },
     "execution_count": 102,
     "metadata": {},
     "output_type": "execute_result"
    }
   ],
   "source": [
    "x_inflex = solve(y_2deriv, x)\n",
    "x_inflex"
   ]
  },
  {
   "cell_type": "code",
   "execution_count": 103,
   "id": "27972da6",
   "metadata": {},
   "outputs": [
    {
     "data": {
      "text/latex": [
       "$\\displaystyle 144$"
      ],
      "text/plain": [
       "144"
      ]
     },
     "execution_count": 103,
     "metadata": {},
     "output_type": "execute_result"
    }
   ],
   "source": [
    "diff(y, x, 3).subs(x, 1)"
   ]
  },
  {
   "cell_type": "code",
   "execution_count": 104,
   "id": "b4eeebcc",
   "metadata": {},
   "outputs": [
    {
     "name": "stdout",
     "output_type": "stream",
     "text": [
      "left: -12.3 right: 16.6\n"
     ]
    }
   ],
   "source": [
    "print('left: %.1f right: %.1f' % (y_2deriv.subs(x, 0.9), y_2deriv.subs(x, 1.1)))"
   ]
  },
  {
   "cell_type": "code",
   "execution_count": 105,
   "id": "b50ca461",
   "metadata": {},
   "outputs": [
    {
     "data": {
      "image/png": "[encoded data removed]",
      "text/plain": [
       "<Figure size 432x288 with 1 Axes>"
      ]
     },
     "metadata": {
      "needs_background": "light"
     },
     "output_type": "display_data"
    }
   ],
   "source": [
    "# example 18\n",
    "x = symbols('x')\n",
    "y = (x**2-16)/(5*(x+5))\n",
    "f = lambda x: (x**2 - 16)/(5*(x+5))\n",
    "x = np.linspace(-12, 3.6, 100)\n",
    "x[(x>-5.2) & (x < -4.8)] = np.nan\n",
    "y= f(x)\n",
    "plt.plot(x, y, lw=2, color='red')\n",
    "plt.grid(True, linestyle='-', color='0.4')\n",
    "plt.show()"
   ]
  },
  {
   "cell_type": "code",
   "execution_count": 108,
   "id": "84b8ce79",
   "metadata": {},
   "outputs": [
    {
     "data": {
      "text/latex": [
       "$\\displaystyle \\left[\\begin{array}-3.65714285714286 & -3.63154950747511 & -3.60623533613561 & -3.58122056216764 & -3.55652740535709 & -3.53218033998522 & -3.50820638820639 & -3.4846354604628 & -3.46150075197594 & -3.43883920639621 & -3.41669206026748 & -3.39510548523207 & -3.37413134907797 & -3.3538281221023 & -3.33426196222656 & -3.31550802139037 & -3.29765202771969 & -3.28079221386374 & -3.26504168320762 & -3.25053133452528 & -3.23741350513004 & -3.22586654724586 & -3.21610062893082 & -3.20836515967575 & -3.20295839753467 & -3.2002400240024 & -3.20064781425951 & -3.20472004816376 & -3.21312610886381 & -3.22670898511298 & -3.24654545454545 & -3.27403316835982 & -3.311019795478 & -3.36 & -3.42442580789444 & -3.50921459492888 & -3.62161892901619 & -3.77279949756634 & -3.9808673561967 & -4.27729206963249 & -4.72200263504611 & -5.44495743956418 & -6.79064935064934 & -10.0718755118755 & \\text{NaN} & \\text{NaN} & 5.29359940872137 & 2.51404794210765 & 1.30627565982405 & 0.640040743570157 & 0.224033437826543 & -0.0558851674641133 & -0.253597908014151 & -0.397858404674548 & -0.505410733844468 & -0.586666666666666 & -0.648440551696366 & -0.695379482902418 & -0.730761438750107 & -0.756964899656193 & -0.775757575757576 & -0.788480629965549 & -0.796170015250978 & -0.799638622247318 & -0.799533249985116 & -0.796374964599264 & -0.790588235294118 & -0.78252232719013 & -0.772467249987641 & -0.760665813060179 & -0.74732285258601 & -0.732612375564619 & -0.716683149486497 & -0.699663118397977 & -0.68166292311936 & -0.662778730703259 & -0.643094526261396 & -0.622683982683983 & -0.601611996251172 & -0.579935955775778 & -0.557706797706798 & -0.534969888156008 & -0.511765764089203 & -0.488130759237439 & -0.464097535117944 & -0.439695533534396 & -0.414951363776526 & -0.389889135254989 & -0.36453074433657 & -0.338896122571705 & -0.313003452243959 & -0.286869354152591 & -0.260509051713579 & -0.233936514791622 & -0.207164586125021 & -0.180205092752621 & -0.153068944478341 & -0.125766221099067 & -0.098306249864039 & -0.0706976744186046\\end{array}\\right]$"
      ],
      "text/plain": [
       "[-3.65714285714286, -3.63154950747511, -3.60623533613561, -3.58122056216764, -3.55652740535709, -3.53218033998522, -3.50820638820639, -3.4846354604628, -3.46150075197594, -3.43883920639621, -3.41669206026748, -3.39510548523207, -3.37413134907797, -3.3538281221023, -3.33426196222656, -3.31550802139037, -3.29765202771969, -3.28079221386374, -3.26504168320762, -3.25053133452528, -3.23741350513004, -3.22586654724586, -3.21610062893082, -3.20836515967575, -3.20295839753467, -3.2002400240024, -3.20064781425951, -3.20472004816376, -3.21312610886381, -3.22670898511298, -3.24654545454545, -3.27403316835982, -3.311019795478, -3.36, -3.42442580789444, -3.50921459492888, -3.62161892901619, -3.77279949756634, -3.9808673561967, -4.27729206963249, -4.72200263504611, -5.44495743956418, -6.79064935064934, -10.0718755118755, nan, nan, 5.29359940872137, 2.51404794210765, 1.30627565982405, 0.640040743570157, 0.224033437826543, -0.0558851674641133, -0.253597908014151, -0.397858404674548, -0.505410733844468, -0.586666666666666, -0.648440551696366, -0.695379482902418, -0.730761438750107, -0.756964899656193, -0.775757575757576, -0.788480629965549, -0.796170015250978, -0.799638622247318, -0.799533249985116, -0.796374964599264, -0.790588235294118, -0.78252232719013, -0.772467249987641, -0.760665813060179, -0.74732285258601, -0.732612375564619, -0.716683149486497, -0.699663118397977, -0.68166292311936, -0.662778730703259, -0.643094526261396, -0.622683982683983, -0.601611996251172, -0.579935955775778, -0.557706797706798, -0.534969888156008, -0.511765764089203, -0.488130759237439, -0.464097535117944, -0.439695533534396, -0.414951363776526, -0.389889135254989, -0.36453074433657, -0.338896122571705, -0.313003452243959, -0.286869354152591, -0.260509051713579, -0.233936514791622, -0.207164586125021, -0.180205092752621, -0.153068944478341, -0.125766221099067, -0.098306249864039, -0.0706976744186046]"
      ]
     },
     "execution_count": 108,
     "metadata": {},
     "output_type": "execute_result"
    }
   ],
   "source": [
    "limit(y, x, -5)"
   ]
  },
  {
   "cell_type": "code",
   "execution_count": 109,
   "id": "91c7899d",
   "metadata": {},
   "outputs": [
    {
     "data": {
      "text/latex": [
       "$\\displaystyle \\left[\\begin{array}-3.65714285714286 & -3.63154950747511 & -3.60623533613561 & -3.58122056216764 & -3.55652740535709 & -3.53218033998522 & -3.50820638820639 & -3.4846354604628 & -3.46150075197594 & -3.43883920639621 & -3.41669206026748 & -3.39510548523207 & -3.37413134907797 & -3.3538281221023 & -3.33426196222656 & -3.31550802139037 & -3.29765202771969 & -3.28079221386374 & -3.26504168320762 & -3.25053133452528 & -3.23741350513004 & -3.22586654724586 & -3.21610062893082 & -3.20836515967575 & -3.20295839753467 & -3.2002400240024 & -3.20064781425951 & -3.20472004816376 & -3.21312610886381 & -3.22670898511298 & -3.24654545454545 & -3.27403316835982 & -3.311019795478 & -3.36 & -3.42442580789444 & -3.50921459492888 & -3.62161892901619 & -3.77279949756634 & -3.9808673561967 & -4.27729206963249 & -4.72200263504611 & -5.44495743956418 & -6.79064935064934 & -10.0718755118755 & \\text{NaN} & \\text{NaN} & 5.29359940872137 & 2.51404794210765 & 1.30627565982405 & 0.640040743570157 & 0.224033437826543 & -0.0558851674641133 & -0.253597908014151 & -0.397858404674548 & -0.505410733844468 & -0.586666666666666 & -0.648440551696366 & -0.695379482902418 & -0.730761438750107 & -0.756964899656193 & -0.775757575757576 & -0.788480629965549 & -0.796170015250978 & -0.799638622247318 & -0.799533249985116 & -0.796374964599264 & -0.790588235294118 & -0.78252232719013 & -0.772467249987641 & -0.760665813060179 & -0.74732285258601 & -0.732612375564619 & -0.716683149486497 & -0.699663118397977 & -0.68166292311936 & -0.662778730703259 & -0.643094526261396 & -0.622683982683983 & -0.601611996251172 & -0.579935955775778 & -0.557706797706798 & -0.534969888156008 & -0.511765764089203 & -0.488130759237439 & -0.464097535117944 & -0.439695533534396 & -0.414951363776526 & -0.389889135254989 & -0.36453074433657 & -0.338896122571705 & -0.313003452243959 & -0.286869354152591 & -0.260509051713579 & -0.233936514791622 & -0.207164586125021 & -0.180205092752621 & -0.153068944478341 & -0.125766221099067 & -0.098306249864039 & -0.0706976744186046\\end{array}\\right]$"
      ],
      "text/plain": [
       "[-3.65714285714286, -3.63154950747511, -3.60623533613561, -3.58122056216764, -3.55652740535709, -3.53218033998522, -3.50820638820639, -3.4846354604628, -3.46150075197594, -3.43883920639621, -3.41669206026748, -3.39510548523207, -3.37413134907797, -3.3538281221023, -3.33426196222656, -3.31550802139037, -3.29765202771969, -3.28079221386374, -3.26504168320762, -3.25053133452528, -3.23741350513004, -3.22586654724586, -3.21610062893082, -3.20836515967575, -3.20295839753467, -3.2002400240024, -3.20064781425951, -3.20472004816376, -3.21312610886381, -3.22670898511298, -3.24654545454545, -3.27403316835982, -3.311019795478, -3.36, -3.42442580789444, -3.50921459492888, -3.62161892901619, -3.77279949756634, -3.9808673561967, -4.27729206963249, -4.72200263504611, -5.44495743956418, -6.79064935064934, -10.0718755118755, nan, nan, 5.29359940872137, 2.51404794210765, 1.30627565982405, 0.640040743570157, 0.224033437826543, -0.0558851674641133, -0.253597908014151, -0.397858404674548, -0.505410733844468, -0.586666666666666, -0.648440551696366, -0.695379482902418, -0.730761438750107, -0.756964899656193, -0.775757575757576, -0.788480629965549, -0.796170015250978, -0.799638622247318, -0.799533249985116, -0.796374964599264, -0.790588235294118, -0.78252232719013, -0.772467249987641, -0.760665813060179, -0.74732285258601, -0.732612375564619, -0.716683149486497, -0.699663118397977, -0.68166292311936, -0.662778730703259, -0.643094526261396, -0.622683982683983, -0.601611996251172, -0.579935955775778, -0.557706797706798, -0.534969888156008, -0.511765764089203, -0.488130759237439, -0.464097535117944, -0.439695533534396, -0.414951363776526, -0.389889135254989, -0.36453074433657, -0.338896122571705, -0.313003452243959, -0.286869354152591, -0.260509051713579, -0.233936514791622, -0.207164586125021, -0.180205092752621, -0.153068944478341, -0.125766221099067, -0.098306249864039, -0.0706976744186046]"
      ]
     },
     "execution_count": 109,
     "metadata": {},
     "output_type": "execute_result"
    }
   ],
   "source": [
    "limit(y, x, oo)"
   ]
  },
  {
   "cell_type": "code",
   "execution_count": 111,
   "id": "84189ef9",
   "metadata": {},
   "outputs": [
    {
     "data": {
      "text/latex": [
       "$\\displaystyle \\left[\\begin{array}0.304761904761905 & 0.306655920539095 & 0.308624912065547 & 0.31067370807448 & 0.312807580961578 & 0.315032300593276 & 0.317354196301565 & 0.319780228574172 & 0.322318072277669 & 0.324976213662872 & 0.327764063921008 & 0.330692092717409 & 0.333771985969943 & 0.33701683321978 & 0.340441351341202 & 0.344062153163152 & 0.3478980719781 & 0.351970556103718 & 0.35630415193734 & 0.360927099728581 & 0.365872074209902 & 0.371177113176825 & 0.37688679245283 & 0.383053727457669 & 0.389740512974351 & 0.397022258616839 & 0.404989945822713 & 0.41375493579579 & 0.423455118180934 & 0.434263444162839 & 0.4464 & 0.460149465740519 & 0.47588699151034 & 0.494117647058823 & 0.515538556845422 & 0.541140568376883 & 0.572382301999685 & 0.611504830155644 & 0.662140235657717 & 0.730593365931016 & 0.82886216466235 & 0.982951835369901 & 1.26177606177606 & 1.92791120586944 & \\text{NaN} & \\text{NaN} & -1.11408661025386 & -0.54725318001024 & -0.294447382337389 & -0.149584593044017 & -0.0543610547667347 & 0.0140994688556249 & 0.0666300236024441 & 0.109047569387542 & 0.144779116465863 & 0.176 & 0.204184524866222 & 0.230396816624295 & 0.255456858885101 & 0.280043068258457 & 0.304761904761905 & 0.330201279046486 & 0.356978403577205 & 0.385790563364934 & 0.417477804580836 & 0.453109893651305 & 0.494117647058823 & 0.542504974732653 & 0.601212718150759 & 0.674784189004997 & 0.770676691729323 & 0.902097328120612 & 1.09493258949326 & 1.40785871384959 & 2.0084711127624 & 3.64528301886789 & 26.5276492082814 & -4.67012987012989 & -2.06804123711341 & -1.29310044193248 & -0.920216216216217 & -0.700555805918584 & -0.555535204438939 & -0.452480759967289 & -0.375373006345396 & -0.315433752318154 & -0.267449121184089 & -0.228126621691749 & -0.195284327323163 & -0.167418743186621 & -0.143459915611815 & -0.122625501127403 & -0.104330081390147 & -0.0881267692708166 & -0.0736684411866993 & -0.0606813067432297 & -0.0489464648041206 & -0.0382867647257308 & -0.0285572732879691 & -0.0196382428940568\\end{array}\\right]$"
      ],
      "text/plain": [
       "[0.304761904761905, 0.306655920539095, 0.308624912065547, 0.31067370807448, 0.312807580961578, 0.315032300593276, 0.317354196301565, 0.319780228574172, 0.322318072277669, 0.324976213662872, 0.327764063921008, 0.330692092717409, 0.333771985969943, 0.33701683321978, 0.340441351341202, 0.344062153163152, 0.3478980719781, 0.351970556103718, 0.35630415193734, 0.360927099728581, 0.365872074209902, 0.371177113176825, 0.37688679245283, 0.383053727457669, 0.389740512974351, 0.397022258616839, 0.404989945822713, 0.41375493579579, 0.423455118180934, 0.434263444162839, 0.4464, 0.460149465740519, 0.47588699151034, 0.494117647058823, 0.515538556845422, 0.541140568376883, 0.572382301999685, 0.611504830155644, 0.662140235657717, 0.730593365931016, 0.82886216466235, 0.982951835369901, 1.26177606177606, 1.92791120586944, nan, nan, -1.11408661025386, -0.54725318001024, -0.294447382337389, -0.149584593044017, -0.0543610547667347, 0.0140994688556249, 0.0666300236024441, 0.109047569387542, 0.144779116465863, 0.176, 0.204184524866222, 0.230396816624295, 0.255456858885101, 0.280043068258457, 0.304761904761905, 0.330201279046486, 0.356978403577205, 0.385790563364934, 0.417477804580836, 0.453109893651305, 0.494117647058823, 0.542504974732653, 0.601212718150759, 0.674784189004997, 0.770676691729323, 0.902097328120612, 1.09493258949326, 1.40785871384959, 2.0084711127624, 3.64528301886789, 26.5276492082814, -4.67012987012989, -2.06804123711341, -1.29310044193248, -0.920216216216217, -0.700555805918584, -0.555535204438939, -0.452480759967289, -0.375373006345396, -0.315433752318154, -0.267449121184089, -0.228126621691749, -0.195284327323163, -0.167418743186621, -0.143459915611815, -0.122625501127403, -0.104330081390147, -0.0881267692708166, -0.0736684411866993, -0.0606813067432297, -0.0489464648041206, -0.0382867647257308, -0.0285572732879691, -0.0196382428940568]"
      ]
     },
     "execution_count": 111,
     "metadata": {},
     "output_type": "execute_result"
    }
   ],
   "source": [
    "k = limit(y/x, x, oo)\n",
    "k"
   ]
  },
  {
   "cell_type": "code",
   "execution_count": 116,
   "id": "ae1cd6d5",
   "metadata": {},
   "outputs": [
    {
     "data": {
      "image/png": "[encoded data removed]",
      "text/plain": [
       "<Figure size 432x288 with 1 Axes>"
      ]
     },
     "metadata": {
      "needs_background": "light"
     },
     "output_type": "display_data"
    }
   ],
   "source": [
    "f = lambda x: (x**2-16)/(5*(x+5))\n",
    "x = np.linspace(-12, 4.6, 100)\n",
    "x[(x>-5.2) & (x < -4.8)] = np.nan\n",
    "y = f(x)\n",
    "plt.plot(x, y, lw=2, color='red')\n",
    "\n",
    "x = np.linspace(-12.3, 5.5, 100)\n",
    "y = x/5 - 1\n",
    "plt.plot(x, y, '--', color='b')\n",
    "\n",
    "plt.plot([-5, -5], [-9, 7], '--', color='b')\n",
    "\n",
    "plt.grid(True, linestyle='-', color='0.4')\n",
    "plt.show()"
   ]
  },
  {
   "cell_type": "markdown",
   "id": "f4dbb676",
   "metadata": {},
   "source": [
    "<h2>Частные производные</h2>"
   ]
  },
  {
   "cell_type": "code",
   "execution_count": 117,
   "id": "7e476a20",
   "metadata": {},
   "outputs": [
    {
     "data": {
      "text/latex": [
       "$\\displaystyle e^{- x}$"
      ],
      "text/plain": [
       "exp(-x)"
      ]
     },
     "execution_count": 117,
     "metadata": {},
     "output_type": "execute_result"
    }
   ],
   "source": [
    "# example 20\n",
    "x, y = symbols('x y')\n",
    "z = x*y**2 + exp(-x)\n",
    "diff(z, x, 2)"
   ]
  },
  {
   "cell_type": "code",
   "execution_count": 118,
   "id": "48c68931",
   "metadata": {},
   "outputs": [
    {
     "data": {
      "text/latex": [
       "$\\displaystyle 2 x$"
      ],
      "text/plain": [
       "2*x"
      ]
     },
     "execution_count": 118,
     "metadata": {},
     "output_type": "execute_result"
    }
   ],
   "source": [
    "diff(z, y, 2)"
   ]
  },
  {
   "cell_type": "code",
   "execution_count": 119,
   "id": "bd9f8b6e",
   "metadata": {},
   "outputs": [
    {
     "data": {
      "text/latex": [
       "$\\displaystyle \\sin{\\left(x \\right)} \\sin{\\left(y \\right)}$"
      ],
      "text/plain": [
       "sin(x)*sin(y)"
      ]
     },
     "execution_count": 119,
     "metadata": {},
     "output_type": "execute_result"
    }
   ],
   "source": [
    "# example 21\n",
    "x, y = symbols('x y')\n",
    "z = sin(x)*cos(y)\n",
    "diff(z, x, 2, y)"
   ]
  },
  {
   "cell_type": "markdown",
   "id": "afcaed01",
   "metadata": {},
   "source": [
    "<h2>Градиент</h2>"
   ]
  },
  {
   "cell_type": "code",
   "execution_count": 120,
   "id": "e913d77d",
   "metadata": {},
   "outputs": [
    {
     "data": {
      "text/plain": [
       "(2, 4)"
      ]
     },
     "execution_count": 120,
     "metadata": {},
     "output_type": "execute_result"
    }
   ],
   "source": [
    "# example 22\n",
    "x, y = symbols('x y')\n",
    "z = 5 * log(x**2 + y**2)\n",
    "\n",
    "z_x = diff(z, x).subs({x:1, y:2})\n",
    "z_y = diff(z, y).subs({x:1, y:2})\n",
    "grad_f = (z_x, z_y)\n",
    "grad_f"
   ]
  },
  {
   "cell_type": "code",
   "execution_count": 122,
   "id": "d891aeab",
   "metadata": {},
   "outputs": [
    {
     "data": {
      "text/plain": [
       "(1, 1)"
      ]
     },
     "execution_count": 122,
     "metadata": {},
     "output_type": "execute_result"
    }
   ],
   "source": [
    "# example 23\n",
    "x, y = symbols('x y')\n",
    "z = x**2 + x*y +7\n",
    "z_x = diff(z, x).subs({x:1, y:-1})\n",
    "z_y = diff(z, y).subs({x:1, y:-1})\n",
    "grad_f = (z_x, z_y)\n",
    "grad_f"
   ]
  },
  {
   "cell_type": "markdown",
   "id": "1af59f75",
   "metadata": {},
   "source": [
    "<h2>Производная по направлению</h2>"
   ]
  },
  {
   "cell_type": "code",
   "execution_count": 123,
   "id": "31d8702d",
   "metadata": {},
   "outputs": [
    {
     "data": {
      "text/latex": [
       "$\\displaystyle \\frac{14}{5}$"
      ],
      "text/plain": [
       "14/5"
      ]
     },
     "execution_count": 123,
     "metadata": {},
     "output_type": "execute_result"
    }
   ],
   "source": [
    "# example 24\n",
    "l = Point(3, 4)\n",
    "l_n = l.distance(Point(0, 0))\n",
    "cos_a = l.x/l_n\n",
    "cos_b = l.y/l_n\n",
    "x, y = symbols('x y')\n",
    "z = x**2 + y**2\n",
    "z_x = diff(z,x).subs({x:1, y:1})\n",
    "z_y = diff(z, y).subs({x:1, y:1})\n",
    "z_l = z_x*cos_a + z_y*cos_b\n",
    "z_l"
   ]
  },
  {
   "cell_type": "markdown",
   "id": "2162c323",
   "metadata": {},
   "source": [
    "<h2>Касательна плоскость</h2>"
   ]
  },
  {
   "cell_type": "code",
   "execution_count": 125,
   "id": "52ea6239",
   "metadata": {},
   "outputs": [],
   "source": [
    "def tangent_plane(F, M):\n",
    "    F_diff_x = diff(F, x).subs({x:M.x, y:M.y, z:M.z})\n",
    "    F_diff_y = diff(F, y).subs({x:M.x, y:M.y, z:M.z})\n",
    "    F_diff_z = diff(F, z).subs({x:M.x, y:M.y, z:M.z})\n",
    "    \n",
    "    n = Point(F_diff_x, F_diff_y, F_diff_z)\n",
    "    p = Plane(M, normal_vector=n).equation()\n",
    "    \n",
    "    K = Point(M.x+n.x, M.y+n.y, M.z+n.z)\n",
    "    l_n = Line(M, K).arbitrary_point()\n",
    "    return p, l_n"
   ]
  },
  {
   "cell_type": "code",
   "execution_count": 126,
   "id": "8aa70746",
   "metadata": {},
   "outputs": [
    {
     "data": {
      "text/latex": [
       "$\\displaystyle 2 x + 2 y + 2 z - 6$"
      ],
      "text/plain": [
       "2*x + 2*y + 2*z - 6"
      ]
     },
     "execution_count": 126,
     "metadata": {},
     "output_type": "execute_result"
    }
   ],
   "source": [
    "# example 25\n",
    "x, y, z = symbols('x y z')\n",
    "F = x**2 + y**2 + z**2 - 9\n",
    "M = Point(1, 1, 1)\n",
    "p, l_n = tangent_plane(F, M)\n",
    "p"
   ]
  },
  {
   "cell_type": "code",
   "execution_count": 127,
   "id": "7fe1c3b4",
   "metadata": {},
   "outputs": [
    {
     "data": {
      "text/latex": [
       "$\\displaystyle Point3D\\left(2 t + 1, 2 t + 1, 2 t + 1\\right)$"
      ],
      "text/plain": [
       "Point3D(2*t + 1, 2*t + 1, 2*t + 1)"
      ]
     },
     "execution_count": 127,
     "metadata": {},
     "output_type": "execute_result"
    }
   ],
   "source": [
    "l_n"
   ]
  },
  {
   "cell_type": "markdown",
   "id": "520beb3e",
   "metadata": {},
   "source": [
    "<h2>Экстремум функции многих переменных</h2>"
   ]
  },
  {
   "cell_type": "code",
   "execution_count": 130,
   "id": "6adc4d73",
   "metadata": {},
   "outputs": [
    {
     "data": {
      "text/plain": [
       "array([0.99999999, 2.98725136])"
      ]
     },
     "execution_count": 130,
     "metadata": {},
     "output_type": "execute_result"
    }
   ],
   "source": [
    "# example 26\n",
    "z = lambda w: (w[0] - 1)**2 + (w[1]-3)**4\n",
    "res = minimize(z, (0, 0))\n",
    "res.x"
   ]
  },
  {
   "cell_type": "code",
   "execution_count": 131,
   "id": "024dfe10",
   "metadata": {},
   "outputs": [
    {
     "data": {
      "text/plain": [
       "array([0.9999999, 3.001    ])"
      ]
     },
     "execution_count": 131,
     "metadata": {},
     "output_type": "execute_result"
    }
   ],
   "source": [
    "res = minimize(z, (0.999, 3.001))\n",
    "res.x"
   ]
  },
  {
   "cell_type": "code",
   "execution_count": 133,
   "id": "c6297ee3",
   "metadata": {},
   "outputs": [
    {
     "data": {
      "text/plain": [
       "True"
      ]
     },
     "execution_count": 133,
     "metadata": {},
     "output_type": "execute_result"
    }
   ],
   "source": [
    "z((1, 3)) < z((0.999, 3.001))"
   ]
  },
  {
   "cell_type": "code",
   "execution_count": 134,
   "id": "c6d153a2",
   "metadata": {},
   "outputs": [
    {
     "data": {
      "text/plain": [
       "0"
      ]
     },
     "execution_count": 134,
     "metadata": {},
     "output_type": "execute_result"
    }
   ],
   "source": [
    "z((1, 3))"
   ]
  },
  {
   "cell_type": "code",
   "execution_count": 135,
   "id": "5f371096",
   "metadata": {},
   "outputs": [],
   "source": [
    "# example 27\n",
    "z = lambda w: w[0]**4 + w[1]**4 - 2*w[0]**2 + 4*w[0]*w[1] - 2*w[1]**2"
   ]
  },
  {
   "cell_type": "code",
   "execution_count": 136,
   "id": "75f2f1a3",
   "metadata": {},
   "outputs": [
    {
     "ename": "NameError",
     "evalue": "name 'figsize' is not defined",
     "output_type": "error",
     "traceback": [
      "\u001b[1;31m---------------------------------------------------------------------------\u001b[0m",
      "\u001b[1;31mNameError\u001b[0m                                 Traceback (most recent call last)",
      "\u001b[1;32mC:\\Users\\E0F1~1\\AppData\\Local\\Temp/ipykernel_21004/3933521091.py\u001b[0m in \u001b[0;36m<module>\u001b[1;34m\u001b[0m\n\u001b[0;32m      1\u001b[0m \u001b[1;32mfrom\u001b[0m \u001b[0mmpl_toolkits\u001b[0m\u001b[1;33m.\u001b[0m\u001b[0mmplot3d\u001b[0m \u001b[1;32mimport\u001b[0m \u001b[0mAxes3D\u001b[0m\u001b[1;33m\u001b[0m\u001b[1;33m\u001b[0m\u001b[0m\n\u001b[0;32m      2\u001b[0m \u001b[1;33m\u001b[0m\u001b[0m\n\u001b[1;32m----> 3\u001b[1;33m \u001b[0mfig\u001b[0m \u001b[1;33m=\u001b[0m \u001b[0mplt\u001b[0m\u001b[1;33m.\u001b[0m\u001b[0mfigure\u001b[0m\u001b[1;33m(\u001b[0m\u001b[0mfigsize\u001b[0m\u001b[1;33m(\u001b[0m\u001b[1;36m7\u001b[0m\u001b[1;33m,\u001b[0m \u001b[1;36m7\u001b[0m\u001b[1;33m)\u001b[0m\u001b[1;33m)\u001b[0m\u001b[1;33m\u001b[0m\u001b[1;33m\u001b[0m\u001b[0m\n\u001b[0m\u001b[0;32m      4\u001b[0m \u001b[0maxes\u001b[0m \u001b[1;33m=\u001b[0m \u001b[0mfig\u001b[0m\u001b[1;33m.\u001b[0m\u001b[0mgca\u001b[0m\u001b[1;33m(\u001b[0m\u001b[0mprojection\u001b[0m\u001b[1;33m=\u001b[0m\u001b[1;34m'3d'\u001b[0m\u001b[1;33m)\u001b[0m\u001b[1;33m\u001b[0m\u001b[1;33m\u001b[0m\u001b[0m\n\u001b[0;32m      5\u001b[0m \u001b[1;33m\u001b[0m\u001b[0m\n",
      "\u001b[1;31mNameError\u001b[0m: name 'figsize' is not defined"
     ]
    }
   ],
   "source": [
    "from mpl_toolkits.mplot3d import Axes3D\n",
    "\n",
    "fig = plt.figure(figsize(7, 7))\n",
    "axes = fig.gca(projection='3d')\n",
    "\n",
    "y = x = np.linspace(-2, 2, 50)\n",
    "x, y = np.meshgrid(x, y)\n",
    "Z = z((x, y))\n",
    "\n",
    "surf = axes.plot_surface(x, y, Z, cmap='coolwarm', linewidth=0, antialiased=False)\n",
    "\n",
    "axes.set_xlabel('X')\n",
    "axes.set_ylabel('Y')\n",
    "axes.set_zlabel('Z')\n",
    "plt.show()"
   ]
  },
  {
   "cell_type": "markdown",
   "id": "b84242b5",
   "metadata": {},
   "source": [
    "<h2>Примеры решения задач</h2>"
   ]
  },
  {
   "cell_type": "code",
   "execution_count": 138,
   "id": "208f8c3d",
   "metadata": {},
   "outputs": [
    {
     "data": {
      "text/latex": [
       "$\\displaystyle x \\left(- \\frac{\\sin{\\left(\\log{\\left(x \\right)} \\right)}}{x} + \\frac{\\cos{\\left(\\log{\\left(x \\right)} \\right)}}{x}\\right) + \\sin{\\left(\\log{\\left(x \\right)} \\right)} + \\cos{\\left(\\log{\\left(x \\right)} \\right)}$"
      ],
      "text/plain": [
       "x*(-sin(log(x))/x + cos(log(x))/x) + sin(log(x)) + cos(log(x))"
      ]
     },
     "execution_count": 138,
     "metadata": {},
     "output_type": "execute_result"
    }
   ],
   "source": [
    "# task 1\n",
    "x = symbols('x')\n",
    "y = x*(cos(log(x))+sin(log(x)))\n",
    "diff(y, x)"
   ]
  },
  {
   "cell_type": "code",
   "execution_count": 139,
   "id": "1c956777",
   "metadata": {},
   "outputs": [
    {
     "data": {
      "text/latex": [
       "$\\displaystyle 2 \\cos{\\left(\\log{\\left(x \\right)} \\right)}$"
      ],
      "text/plain": [
       "2*cos(log(x))"
      ]
     },
     "execution_count": 139,
     "metadata": {},
     "output_type": "execute_result"
    }
   ],
   "source": [
    "diff(y,x).simplify()"
   ]
  },
  {
   "cell_type": "code",
   "execution_count": 140,
   "id": "d9d7eef2",
   "metadata": {},
   "outputs": [
    {
     "data": {
      "text/latex": [
       "$\\displaystyle \\left(e^{x} \\log{\\left(\\cos{\\left(x \\right)} \\right)} - \\frac{e^{x} \\sin{\\left(x \\right)}}{\\cos{\\left(x \\right)}}\\right) \\cos^{e^{x}}{\\left(x \\right)}$"
      ],
      "text/plain": [
       "(exp(x)*log(cos(x)) - exp(x)*sin(x)/cos(x))*cos(x)**exp(x)"
      ]
     },
     "execution_count": 140,
     "metadata": {},
     "output_type": "execute_result"
    }
   ],
   "source": [
    "# task 2\n",
    "y = cos(x)**(exp(x))\n",
    "diff(y, x)"
   ]
  },
  {
   "cell_type": "code",
   "execution_count": 141,
   "id": "69b2eee4",
   "metadata": {},
   "outputs": [
    {
     "data": {
      "text/latex": [
       "$\\displaystyle \\left(\\log{\\left(\\cos{\\left(x \\right)} \\right)} \\cos{\\left(x \\right)} - \\sin{\\left(x \\right)}\\right) e^{x} \\cos^{e^{x} - 1}{\\left(x \\right)}$"
      ],
      "text/plain": [
       "(log(cos(x))*cos(x) - sin(x))*exp(x)*cos(x)**(exp(x) - 1)"
      ]
     },
     "execution_count": 141,
     "metadata": {},
     "output_type": "execute_result"
    }
   ],
   "source": [
    "diff(y, x).simplify()"
   ]
  },
  {
   "cell_type": "code",
   "execution_count": 142,
   "id": "d0110b6d",
   "metadata": {},
   "outputs": [
    {
     "data": {
      "text/latex": [
       "$\\displaystyle - \\frac{29120}{243}$"
      ],
      "text/plain": [
       "-29120/243"
      ]
     },
     "execution_count": 142,
     "metadata": {},
     "output_type": "execute_result"
    }
   ],
   "source": [
    "# task 3\n",
    "y = log((x**2-x)/(x**2+x))\n",
    "diff(y, x, 6).subs(x, 2)"
   ]
  },
  {
   "cell_type": "code",
   "execution_count": 143,
   "id": "de798742",
   "metadata": {},
   "outputs": [
    {
     "data": {
      "text/plain": [
       "[0, exp(-5/6)]"
      ]
     },
     "execution_count": 143,
     "metadata": {},
     "output_type": "execute_result"
    }
   ],
   "source": [
    "# task 4\n",
    "y = x**3*log(x)\n",
    "y_diff = diff(y, x, 2)\n",
    "solve(y_diff, x)"
   ]
  },
  {
   "cell_type": "code",
   "execution_count": 146,
   "id": "3dee4105",
   "metadata": {},
   "outputs": [
    {
     "data": {
      "image/png": "[encoded data removed]",
      "text/plain": [
       "<Figure size 432x288 with 1 Axes>"
      ]
     },
     "metadata": {
      "needs_background": "light"
     },
     "output_type": "display_data"
    }
   ],
   "source": [
    "# task 5\n",
    "f1 = lambda x: x**2-2*x+3\n",
    "f2 = lambda x: 2*x**2-5*x-1\n",
    "x = np.linspace(-3, 5.5, 50)\n",
    "\n",
    "y1 = f1(x)\n",
    "plt.plot(x, y1, label='f1')\n",
    "\n",
    "y2 = f2(x)\n",
    "plt.plot(x, y2, label='f2')\n",
    "plt.legend()\n",
    "plt.show()"
   ]
  },
  {
   "cell_type": "code",
   "execution_count": 147,
   "id": "2670c73d",
   "metadata": {},
   "outputs": [
    {
     "data": {
      "text/plain": [
       "True"
      ]
     },
     "execution_count": 147,
     "metadata": {},
     "output_type": "execute_result"
    }
   ],
   "source": [
    "f1(-1) == f2(-1)"
   ]
  },
  {
   "cell_type": "code",
   "execution_count": 148,
   "id": "8091ce24",
   "metadata": {},
   "outputs": [
    {
     "data": {
      "text/plain": [
       "True"
      ]
     },
     "execution_count": 148,
     "metadata": {},
     "output_type": "execute_result"
    }
   ],
   "source": [
    "f1(4) == f2(4)"
   ]
  },
  {
   "cell_type": "code",
   "execution_count": 149,
   "id": "a2470dc6",
   "metadata": {},
   "outputs": [
    {
     "data": {
      "text/latex": [
       "$\\displaystyle 4 x - 5$"
      ],
      "text/plain": [
       "4*x - 5"
      ]
     },
     "execution_count": 149,
     "metadata": {},
     "output_type": "execute_result"
    }
   ],
   "source": [
    "x = symbols('x')\n",
    "f1 = x**2-2*x+3\n",
    "f2 = 2*x**2-5*x-1\n",
    "\n",
    "y_diff1 = diff(f2, x)\n",
    "y_diff1"
   ]
  },
  {
   "cell_type": "code",
   "execution_count": 150,
   "id": "5d47e7fb",
   "metadata": {},
   "outputs": [
    {
     "data": {
      "text/latex": [
       "$\\displaystyle 2 x - 2$"
      ],
      "text/plain": [
       "2*x - 2"
      ]
     },
     "execution_count": 150,
     "metadata": {},
     "output_type": "execute_result"
    }
   ],
   "source": [
    "y_diff2 = diff(f1, x)\n",
    "y_diff2"
   ]
  },
  {
   "cell_type": "code",
   "execution_count": 151,
   "id": "fd8383d8",
   "metadata": {},
   "outputs": [
    {
     "data": {
      "text/latex": [
       "$\\displaystyle 3 x^{2} + 15$"
      ],
      "text/plain": [
       "3*x**2 + 15"
      ]
     },
     "execution_count": 151,
     "metadata": {},
     "output_type": "execute_result"
    }
   ],
   "source": [
    "# task 6\n",
    "f = det(Matrix([[x-1, 1, 2], [-3, x, 3], [-2, -3, x+1]]))\n",
    "diff(f,x).simplify()"
   ]
  },
  {
   "cell_type": "code",
   "execution_count": 152,
   "id": "cdf46f80",
   "metadata": {},
   "outputs": [
    {
     "data": {
      "text/latex": [
       "$\\displaystyle \\tan{\\left(x \\right)}$"
      ],
      "text/plain": [
       "tan(x)"
      ]
     },
     "execution_count": 152,
     "metadata": {},
     "output_type": "execute_result"
    }
   ],
   "source": [
    "# task 7\n",
    "x, y = symbols('x y')\n",
    "y = x*sin(x)\n",
    "yprim = diff(y, x)\n",
    "f = yprim/cos(x) - x\n",
    "f.simplify()"
   ]
  },
  {
   "cell_type": "code",
   "execution_count": 153,
   "id": "0c63e9fa",
   "metadata": {},
   "outputs": [
    {
     "data": {
      "text/latex": [
       "$\\displaystyle - \\frac{y}{x}$"
      ],
      "text/plain": [
       "-y/x"
      ]
     },
     "execution_count": 153,
     "metadata": {},
     "output_type": "execute_result"
    }
   ],
   "source": [
    "# task 8\n",
    "x, y = symbols('x y')\n",
    "f = log(x) + log(y) - x*y\n",
    "idiff(f, y, x)"
   ]
  },
  {
   "cell_type": "code",
   "execution_count": 154,
   "id": "e75f0489",
   "metadata": {},
   "outputs": [
    {
     "data": {
      "text/latex": [
       "$\\displaystyle \\frac{2 y}{x^{2}}$"
      ],
      "text/plain": [
       "2*y/x**2"
      ]
     },
     "execution_count": 154,
     "metadata": {},
     "output_type": "execute_result"
    }
   ],
   "source": [
    "x, y = symbols('x y')\n",
    "f = log(x) + log(y) - x * y\n",
    "idiff(f, y, x, 2)"
   ]
  },
  {
   "cell_type": "code",
   "execution_count": 155,
   "id": "0958bc7f",
   "metadata": {},
   "outputs": [
    {
     "data": {
      "text/latex": [
       "$\\displaystyle - \\tan{\\left(t \\right)}$"
      ],
      "text/plain": [
       "-tan(t)"
      ]
     },
     "execution_count": 155,
     "metadata": {},
     "output_type": "execute_result"
    }
   ],
   "source": [
    "# task 9\n",
    "t = symbols('t')\n",
    "x = cos(t)**3\n",
    "y = sin(t)**3\n",
    "\n",
    "y_diff = diff(y, t)/diff(x, t)\n",
    "y_diff.simplify()"
   ]
  },
  {
   "cell_type": "code",
   "execution_count": null,
   "id": "a6d4885e",
   "metadata": {},
   "outputs": [],
   "source": []
  }
 ],
 "metadata": {
  "kernelspec": {
   "display_name": "Python 3 (ipykernel)",
   "language": "python",
   "name": "python3"
  },
  "language_info": {
   "codemirror_mode": {
    "name": "ipython",
    "version": 3
   },
   "file_extension": ".py",
   "mimetype": "text/x-python",
   "name": "python",
   "nbconvert_exporter": "python",
   "pygments_lexer": "ipython3",
   "version": "3.9.7"
  }
 },
 "nbformat": 4,
 "nbformat_minor": 5
}
