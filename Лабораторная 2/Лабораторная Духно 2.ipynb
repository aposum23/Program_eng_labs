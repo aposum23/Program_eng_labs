{
 "cells": [
  {
   "cell_type": "markdown",
   "id": "441e83d7",
   "metadata": {},
   "source": [
    "<h1>Предел, непрерывность, ряды</h1>"
   ]
  },
  {
   "cell_type": "markdown",
   "id": "fcdbda23",
   "metadata": {},
   "source": [
    "<h2>Предел, неприрывность</h2>"
   ]
  },
  {
   "cell_type": "code",
   "execution_count": 2,
   "id": "10691cb5",
   "metadata": {},
   "outputs": [
    {
     "data": {
      "text/latex": [
       "$\\displaystyle 2$"
      ],
      "text/plain": [
       "2"
      ]
     },
     "execution_count": 2,
     "metadata": {},
     "output_type": "execute_result"
    }
   ],
   "source": [
    "from sympy import *\n",
    "x = Symbol('x')\n",
    "limit((6*x**2+3*x)/(3*x**2), x, oo)"
   ]
  },
  {
   "cell_type": "code",
   "execution_count": 3,
   "id": "97a1679a",
   "metadata": {},
   "outputs": [
    {
     "data": {
      "text/latex": [
       "$\\displaystyle 1$"
      ],
      "text/plain": [
       "1"
      ]
     },
     "execution_count": 3,
     "metadata": {},
     "output_type": "execute_result"
    }
   ],
   "source": [
    "limit(sin(x)/x,x, 0)"
   ]
  },
  {
   "cell_type": "code",
   "execution_count": 4,
   "id": "f1bb9173",
   "metadata": {},
   "outputs": [
    {
     "data": {
      "text/latex": [
       "$\\displaystyle e$"
      ],
      "text/plain": [
       "E"
      ]
     },
     "execution_count": 4,
     "metadata": {},
     "output_type": "execute_result"
    }
   ],
   "source": [
    "limit((1+x)**(1/x), x, 0)"
   ]
  },
  {
   "cell_type": "code",
   "execution_count": 5,
   "id": "cf0de1f6",
   "metadata": {},
   "outputs": [
    {
     "data": {
      "text/latex": [
       "$\\displaystyle e$"
      ],
      "text/plain": [
       "E"
      ]
     },
     "execution_count": 5,
     "metadata": {},
     "output_type": "execute_result"
    }
   ],
   "source": [
    "limit((1+1/x)**x,x,oo)"
   ]
  },
  {
   "cell_type": "markdown",
   "id": "c65188e5",
   "metadata": {},
   "source": [
    "<h3>Односторонние пределы</h3>"
   ]
  },
  {
   "cell_type": "code",
   "execution_count": 6,
   "id": "783fa7e6",
   "metadata": {},
   "outputs": [
    {
     "data": {
      "text/latex": [
       "$\\displaystyle -\\infty$"
      ],
      "text/plain": [
       "-oo"
      ]
     },
     "execution_count": 6,
     "metadata": {},
     "output_type": "execute_result"
    }
   ],
   "source": [
    "limit(1/x, x, 0, '-')"
   ]
  },
  {
   "cell_type": "code",
   "execution_count": 7,
   "id": "e705782a",
   "metadata": {},
   "outputs": [
    {
     "data": {
      "text/latex": [
       "$\\displaystyle \\infty$"
      ],
      "text/plain": [
       "oo"
      ]
     },
     "execution_count": 7,
     "metadata": {},
     "output_type": "execute_result"
    }
   ],
   "source": [
    "limit((2**x-1)/(x**2-3*x), x, 3, '+')"
   ]
  },
  {
   "cell_type": "code",
   "execution_count": 8,
   "id": "b19b3647",
   "metadata": {},
   "outputs": [
    {
     "data": {
      "text/latex": [
       "$\\displaystyle \\frac{5}{3}$"
      ],
      "text/plain": [
       "5/3"
      ]
     },
     "execution_count": 8,
     "metadata": {},
     "output_type": "execute_result"
    }
   ],
   "source": [
    "from sympy import *\n",
    "x = Symbol('x')\n",
    "limit((5**x-5*7**x)/(4*5**x-3*7**x), x, oo)"
   ]
  },
  {
   "cell_type": "code",
   "execution_count": 9,
   "id": "33e03d5a",
   "metadata": {},
   "outputs": [
    {
     "data": {
      "text/latex": [
       "$\\displaystyle \\frac{7}{6}$"
      ],
      "text/plain": [
       "7/6"
      ]
     },
     "execution_count": 9,
     "metadata": {},
     "output_type": "execute_result"
    }
   ],
   "source": [
    "from sympy import *\n",
    "x = Symbol('x')\n",
    "limit((7*8**x+2*9**x)/(6*8**x-6*9**x), x, -oo)"
   ]
  },
  {
   "cell_type": "code",
   "execution_count": 10,
   "id": "93ea302e",
   "metadata": {},
   "outputs": [
    {
     "data": {
      "text/latex": [
       "$\\displaystyle - \\frac{3}{2}$"
      ],
      "text/plain": [
       "-3/2"
      ]
     },
     "execution_count": 10,
     "metadata": {},
     "output_type": "execute_result"
    }
   ],
   "source": [
    "limit(sqrt(x*(x+3))-sqrt(x**2+9), x, -oo)"
   ]
  },
  {
   "cell_type": "code",
   "execution_count": 11,
   "id": "cda0e3ce",
   "metadata": {},
   "outputs": [
    {
     "name": "stdout",
     "output_type": "stream",
     "text": [
      "[0, 2, 7]\n"
     ]
    }
   ],
   "source": [
    "from sympy import *\n",
    "x = Symbol('x')\n",
    "print(solve(x**3-9*x**2+14*x))"
   ]
  },
  {
   "cell_type": "code",
   "execution_count": 12,
   "id": "4a06eb27",
   "metadata": {},
   "outputs": [
    {
     "data": {
      "text/latex": [
       "$\\displaystyle \\infty$"
      ],
      "text/plain": [
       "oo"
      ]
     },
     "execution_count": 12,
     "metadata": {},
     "output_type": "execute_result"
    }
   ],
   "source": [
    "limit(abs((x-2)*(x-7)/(x**3-9*x**2+14*x)), x, 0, '-')"
   ]
  },
  {
   "cell_type": "code",
   "execution_count": 13,
   "id": "c9387adf",
   "metadata": {},
   "outputs": [
    {
     "data": {
      "text/latex": [
       "$\\displaystyle \\infty$"
      ],
      "text/plain": [
       "oo"
      ]
     },
     "execution_count": 13,
     "metadata": {},
     "output_type": "execute_result"
    }
   ],
   "source": [
    "limit(abs((x-2)*(x-7)/(x**3-9*x**2+14*x)), x, 0, '-')"
   ]
  },
  {
   "cell_type": "code",
   "execution_count": 14,
   "id": "ef56b8ea",
   "metadata": {},
   "outputs": [
    {
     "data": {
      "text/latex": [
       "$\\displaystyle \\infty$"
      ],
      "text/plain": [
       "oo"
      ]
     },
     "execution_count": 14,
     "metadata": {},
     "output_type": "execute_result"
    }
   ],
   "source": [
    "limit(abs((x-2)*(x-7)/(x**3-9*x**2+14*x)), x, 0, '+')"
   ]
  },
  {
   "cell_type": "code",
   "execution_count": 15,
   "id": "22d3e819",
   "metadata": {},
   "outputs": [
    {
     "data": {
      "text/latex": [
       "$\\displaystyle \\frac{1}{2}$"
      ],
      "text/plain": [
       "1/2"
      ]
     },
     "execution_count": 15,
     "metadata": {},
     "output_type": "execute_result"
    }
   ],
   "source": [
    "limit(abs((x-2)*(x-7)/(x**3-9*x**2+14*x)), x, 2, '-')"
   ]
  },
  {
   "cell_type": "code",
   "execution_count": 16,
   "id": "1f48259c",
   "metadata": {},
   "outputs": [
    {
     "data": {
      "text/latex": [
       "$\\displaystyle \\frac{1}{2}$"
      ],
      "text/plain": [
       "1/2"
      ]
     },
     "execution_count": 16,
     "metadata": {},
     "output_type": "execute_result"
    }
   ],
   "source": [
    "limit(abs((x-2)*(x-7)/(x**3-9*x**2+14*x)), x, 2, '+')"
   ]
  },
  {
   "cell_type": "code",
   "execution_count": 17,
   "id": "b2644ea5",
   "metadata": {},
   "outputs": [
    {
     "data": {
      "text/latex": [
       "$\\displaystyle \\frac{1}{7}$"
      ],
      "text/plain": [
       "1/7"
      ]
     },
     "execution_count": 17,
     "metadata": {},
     "output_type": "execute_result"
    }
   ],
   "source": [
    "limit(abs((x-2)*(x-7)/(x**3-9*x**2+14*x)), x, 7, '-')"
   ]
  },
  {
   "cell_type": "code",
   "execution_count": 18,
   "id": "6e7e2502",
   "metadata": {},
   "outputs": [
    {
     "data": {
      "text/latex": [
       "$\\displaystyle \\frac{1}{7}$"
      ],
      "text/plain": [
       "1/7"
      ]
     },
     "execution_count": 18,
     "metadata": {},
     "output_type": "execute_result"
    }
   ],
   "source": [
    "limit(abs((x-2)*(x-7)/(x**3-9*x**2+14*x)), x, 7, '+')"
   ]
  },
  {
   "cell_type": "code",
   "execution_count": 22,
   "id": "6181cc1f",
   "metadata": {},
   "outputs": [
    {
     "name": "stdout",
     "output_type": "stream",
     "text": [
      "0\n"
     ]
    }
   ],
   "source": [
    "k=limit((1+5*x)/(3+x)/x, x, oo)\n",
    "print(k)"
   ]
  },
  {
   "cell_type": "code",
   "execution_count": 23,
   "id": "4a0e4f90",
   "metadata": {},
   "outputs": [
    {
     "name": "stdout",
     "output_type": "stream",
     "text": [
      "5\n"
     ]
    }
   ],
   "source": [
    "b = limit((1+5*x)/(3+x)-k*x, x, oo)\n",
    "print(b)"
   ]
  },
  {
   "cell_type": "code",
   "execution_count": 24,
   "id": "45a595e5",
   "metadata": {},
   "outputs": [
    {
     "data": {
      "text/plain": [
       "[-3]"
      ]
     },
     "execution_count": 24,
     "metadata": {},
     "output_type": "execute_result"
    }
   ],
   "source": [
    "solve(3+x)"
   ]
  },
  {
   "cell_type": "code",
   "execution_count": 25,
   "id": "15825ff3",
   "metadata": {},
   "outputs": [
    {
     "data": {
      "text/latex": [
       "$\\displaystyle \\infty$"
      ],
      "text/plain": [
       "oo"
      ]
     },
     "execution_count": 25,
     "metadata": {},
     "output_type": "execute_result"
    }
   ],
   "source": [
    "limit((1+5*x)/(3+x), x, -3, '-')"
   ]
  },
  {
   "cell_type": "code",
   "execution_count": 26,
   "id": "63a0f269",
   "metadata": {},
   "outputs": [
    {
     "data": {
      "text/latex": [
       "$\\displaystyle -\\infty$"
      ],
      "text/plain": [
       "-oo"
      ]
     },
     "execution_count": 26,
     "metadata": {},
     "output_type": "execute_result"
    }
   ],
   "source": [
    "limit((1+5*x)/(3+x), x, -3, '+')"
   ]
  },
  {
   "cell_type": "markdown",
   "id": "52c44cd3",
   "metadata": {},
   "source": [
    "<h2>Ряды</h2>"
   ]
  },
  {
   "cell_type": "code",
   "execution_count": 28,
   "id": "7edbefbd",
   "metadata": {},
   "outputs": [
    {
     "data": {
      "text/latex": [
       "$\\displaystyle \\infty$"
      ],
      "text/plain": [
       "oo"
      ]
     },
     "execution_count": 28,
     "metadata": {},
     "output_type": "execute_result"
    }
   ],
   "source": [
    "from sympy import *\n",
    "import math as m\n",
    "x = symbols('x')\n",
    "limit(1/factorial(x)/(1/factorial(x+1)), x, oo)"
   ]
  },
  {
   "cell_type": "code",
   "execution_count": 29,
   "id": "e44b1134",
   "metadata": {},
   "outputs": [
    {
     "data": {
      "text/latex": [
       "$\\displaystyle e^{-1}$"
      ],
      "text/plain": [
       "exp(-1)"
      ]
     },
     "execution_count": 29,
     "metadata": {},
     "output_type": "execute_result"
    }
   ],
   "source": [
    "import math\n",
    "from sympy import *\n",
    "x = Symbol('x')\n",
    "limit(x**x/factorial(x)/((x+1)**(x+1)/factorial(x+1)), x, oo)"
   ]
  },
  {
   "cell_type": "code",
   "execution_count": 30,
   "id": "7b6925a3",
   "metadata": {},
   "outputs": [
    {
     "name": "stdout",
     "output_type": "stream",
     "text": [
      "x - x**3/6 + x**5/120 - x**7/5040 + x**9/362880 + O(x**10)\n"
     ]
    }
   ],
   "source": [
    "import sympy\n",
    "x = sympy.symbols('x')\n",
    "func = sin(x)\n",
    "x0 = 0\n",
    "print((func).series(x, x0, 10))"
   ]
  },
  {
   "cell_type": "code",
   "execution_count": 31,
   "id": "1d65a025",
   "metadata": {},
   "outputs": [
    {
     "name": "stdout",
     "output_type": "stream",
     "text": [
      "1 - x**2/2 + x**4/24 - x**6/720 + x**8/40320 + O(x**10)\n"
     ]
    }
   ],
   "source": [
    "import sympy\n",
    "x = sympy.symbols('x')\n",
    "func = cos(x)\n",
    "x0 = 0\n",
    "print((func).series(x, x0, 10))"
   ]
  },
  {
   "cell_type": "code",
   "execution_count": 32,
   "id": "cd9240ec",
   "metadata": {},
   "outputs": [
    {
     "name": "stdout",
     "output_type": "stream",
     "text": [
      "1 + x + x**2/2 + x**3/6 + x**4/24 + x**5/120 + x**6/720 + x**7/5040 + x**8/40320 + x**9/362880 + O(x**10)\n"
     ]
    }
   ],
   "source": [
    "import sympy\n",
    "x = sympy.symbols('x')\n",
    "func = exp(x)\n",
    "x0 = 0\n",
    "print((func).series(x, x0, 10))"
   ]
  },
  {
   "cell_type": "code",
   "execution_count": 33,
   "id": "b3731b0a",
   "metadata": {},
   "outputs": [
    {
     "data": {
      "text/latex": [
       "$\\displaystyle x + \\frac{x^{3}}{6} + \\frac{3 x^{5}}{40} + \\frac{5 x^{7}}{112} + \\frac{35 x^{9}}{1152} + O\\left(x^{10}\\right)$"
      ],
      "text/plain": [
       "x + x**3/6 + 3*x**5/40 + 5*x**7/112 + 35*x**9/1152 + O(x**10)"
      ]
     },
     "execution_count": 33,
     "metadata": {},
     "output_type": "execute_result"
    }
   ],
   "source": [
    "func = asin(x)\n",
    "x0 = 0\n",
    "func.series(x, x0, 10)"
   ]
  },
  {
   "cell_type": "markdown",
   "id": "d5b1295d",
   "metadata": {},
   "source": [
    "<h2>Примеры решения задач</h2>"
   ]
  },
  {
   "cell_type": "code",
   "execution_count": 34,
   "id": "44097695",
   "metadata": {},
   "outputs": [
    {
     "data": {
      "text/latex": [
       "$\\displaystyle \\frac{6}{7}$"
      ],
      "text/plain": [
       "6/7"
      ]
     },
     "execution_count": 34,
     "metadata": {},
     "output_type": "execute_result"
    }
   ],
   "source": [
    "import sympy\n",
    "n = sympy.symbols('n')\n",
    "limit((6*n**2+1)/(7*n**2-3*n+9), n, oo)"
   ]
  },
  {
   "cell_type": "code",
   "execution_count": 36,
   "id": "4657fb65",
   "metadata": {},
   "outputs": [
    {
     "data": {
      "text/latex": [
       "$\\displaystyle -\\infty$"
      ],
      "text/plain": [
       "-oo"
      ]
     },
     "execution_count": 36,
     "metadata": {},
     "output_type": "execute_result"
    }
   ],
   "source": [
    "import sympy\n",
    "n = sympy.symbols('n')\n",
    "limit((-3*n**3+4*n**2-8*n-6)/(4*n**2+2*n), n, oo)"
   ]
  },
  {
   "cell_type": "code",
   "execution_count": 37,
   "id": "bdd9af72",
   "metadata": {},
   "outputs": [
    {
     "data": {
      "text/latex": [
       "$\\displaystyle 0$"
      ],
      "text/plain": [
       "0"
      ]
     },
     "execution_count": 37,
     "metadata": {},
     "output_type": "execute_result"
    }
   ],
   "source": [
    "import sympy\n",
    "n = sympy.symbols('n')\n",
    "limit((n**2-3*n)/(-5*n**3+4*n**2+9), n, oo)"
   ]
  },
  {
   "cell_type": "code",
   "execution_count": 38,
   "id": "21e5d7f1",
   "metadata": {},
   "outputs": [
    {
     "data": {
      "text/latex": [
       "$\\displaystyle - \\frac{7}{3}$"
      ],
      "text/plain": [
       "-7/3"
      ]
     },
     "execution_count": 38,
     "metadata": {},
     "output_type": "execute_result"
    }
   ],
   "source": [
    "import sympy\n",
    "n = sympy.symbols('n')\n",
    "limit((-7*n+10)/sqrt(9*n**2+10*n), n, oo)"
   ]
  },
  {
   "cell_type": "code",
   "execution_count": 39,
   "id": "56645e1a",
   "metadata": {},
   "outputs": [
    {
     "data": {
      "text/latex": [
       "$\\displaystyle -2$"
      ],
      "text/plain": [
       "-2"
      ]
     },
     "execution_count": 39,
     "metadata": {},
     "output_type": "execute_result"
    }
   ],
   "source": [
    "import sympy\n",
    "n = sympy.symbols('n')\n",
    "limit((4*n**4-6)/(-2*n**4+8*n**2+9*n-5), n, oo)"
   ]
  },
  {
   "cell_type": "code",
   "execution_count": 40,
   "id": "8ff4d5f8",
   "metadata": {},
   "outputs": [
    {
     "data": {
      "text/latex": [
       "$\\displaystyle -\\infty$"
      ],
      "text/plain": [
       "-oo"
      ]
     },
     "execution_count": 40,
     "metadata": {},
     "output_type": "execute_result"
    }
   ],
   "source": [
    "import sympy\n",
    "n = sympy.symbols('n')\n",
    "limit((-9*n**5+9*n**4+n**3-8*n)/(7), n, oo)"
   ]
  },
  {
   "cell_type": "code",
   "execution_count": 41,
   "id": "21559776",
   "metadata": {},
   "outputs": [
    {
     "data": {
      "text/latex": [
       "$\\displaystyle 0$"
      ],
      "text/plain": [
       "0"
      ]
     },
     "execution_count": 41,
     "metadata": {},
     "output_type": "execute_result"
    }
   ],
   "source": [
    "import sympy\n",
    "n = sympy.symbols('n')\n",
    "limit((6*n**4+8*n**3+6*n**2-6)/(4*n**6-3*n**5-7*n**4+6*n+9), n, oo)"
   ]
  },
  {
   "cell_type": "code",
   "execution_count": 42,
   "id": "6b2f0063",
   "metadata": {},
   "outputs": [
    {
     "data": {
      "text/latex": [
       "$\\displaystyle \\frac{5}{3}$"
      ],
      "text/plain": [
       "5/3"
      ]
     },
     "execution_count": 42,
     "metadata": {},
     "output_type": "execute_result"
    }
   ],
   "source": [
    "import sympy\n",
    "n = sympy.symbols('n')\n",
    "limit((8+5*n+cos(6*n))/(3*n-8*sin(5*n)-8), n, oo)"
   ]
  },
  {
   "cell_type": "code",
   "execution_count": 43,
   "id": "3f41287b",
   "metadata": {},
   "outputs": [
    {
     "data": {
      "text/latex": [
       "$\\displaystyle \\infty$"
      ],
      "text/plain": [
       "oo"
      ]
     },
     "execution_count": 43,
     "metadata": {},
     "output_type": "execute_result"
    }
   ],
   "source": [
    "import sympy\n",
    "n = sympy.symbols('n')\n",
    "limit((3+6*n**8+7*cos(3*n))/(6+5*n**3-8*sin(3*n)), n, oo)"
   ]
  },
  {
   "cell_type": "code",
   "execution_count": 46,
   "id": "1e6002d4",
   "metadata": {},
   "outputs": [
    {
     "data": {
      "text/latex": [
       "$\\displaystyle \\infty$"
      ],
      "text/plain": [
       "oo"
      ]
     },
     "execution_count": 46,
     "metadata": {},
     "output_type": "execute_result"
    }
   ],
   "source": [
    "import sympy\n",
    "n=sympy.symbols('n')\n",
    "limit(sqrt(3*n**18+2)/sqrt(5*n**16-5*n**9+8),n,oo)"
   ]
  },
  {
   "cell_type": "markdown",
   "id": "29bcce2a",
   "metadata": {},
   "source": [
    "<h2>Задачи для самостоятельного решения</h2>"
   ]
  },
  {
   "attachments": {
    "image.png": {
     "image/png": "[encoded data removed]"
    }
   },
   "cell_type": "markdown",
   "id": "8539de85",
   "metadata": {},
   "source": [
    "Вычислить предел: ![image.png](attachment:image.png)"
   ]
  },
  {
   "cell_type": "code",
   "execution_count": 47,
   "id": "39298961",
   "metadata": {},
   "outputs": [
    {
     "data": {
      "text/latex": [
       "$\\displaystyle -3$"
      ],
      "text/plain": [
       "-3"
      ]
     },
     "execution_count": 47,
     "metadata": {},
     "output_type": "execute_result"
    }
   ],
   "source": [
    "import sympy\n",
    "n = sympy.symbols('n')\n",
    "limit((n**3)/(n**2+3*n+1)-n, n, oo)"
   ]
  },
  {
   "cell_type": "markdown",
   "id": "abf20811",
   "metadata": {},
   "source": [
    "<h2>Индивидуальное задание</h2>"
   ]
  },
  {
   "cell_type": "markdown",
   "id": "2bc14daa",
   "metadata": {},
   "source": [
    "Начальный капитал в размере 10000 долларов был инвестирован на 10 лет под 6% годовых с ежегодной капитализацией. Какая будет конечная сумма на счету через 10 лет?"
   ]
  },
  {
   "cell_type": "code",
   "execution_count": 3,
   "id": "7b736b0e",
   "metadata": {},
   "outputs": [
    {
     "name": "stdout",
     "output_type": "stream",
     "text": [
      "Конечная сумма на счету:  106000.000000000\n"
     ]
    }
   ],
   "source": [
    "import sympy as sp\n",
    "\n",
    "P = 10000\n",
    "r = 0.06\n",
    "n = 1\n",
    "t = 10\n",
    "\n",
    "A = P * sp.limit((1 + r/n) * (n * t), n, sp.oo)\n",
    "\n",
    "print(\"Конечная сумма на счету: \", A)"
   ]
  },
  {
   "cell_type": "code",
   "execution_count": null,
   "id": "c19d44bd",
   "metadata": {},
   "outputs": [],
   "source": []
  }
 ],
 "metadata": {
  "kernelspec": {
   "display_name": "Python 3 (ipykernel)",
   "language": "python",
   "name": "python3"
  },
  "language_info": {
   "codemirror_mode": {
    "name": "ipython",
    "version": 3
   },
   "file_extension": ".py",
   "mimetype": "text/x-python",
   "name": "python",
   "nbconvert_exporter": "python",
   "pygments_lexer": "ipython3",
   "version": "3.10.9"
  }
 },
 "nbformat": 4,
 "nbformat_minor": 5
}
